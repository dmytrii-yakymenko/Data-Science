{
 "cells": [
  {
   "cell_type": "markdown",
   "id": "c151aef4",
   "metadata": {},
   "source": [
    "## Корисні сайти для Data Science:"
   ]
  },
  {
   "cell_type": "markdown",
   "id": "579ab1d1",
   "metadata": {},
   "source": [
    "- Datacamp -> markdown (Jupyter)\n",
    "- Stack Overflow -> Можна знайти рішення проблеми\n",
    "- Codewars -> Python\n",
    "- Stepik -> Курс Python, завдання, тренажер SQL\n",
    "- Stratascratch -> Практика на БД, завдання SQL схожі на реальні, також Python 50/50\n",
    "- Sejda -> HTML to PDF\n",
    "- [Codecogs](Latex.codecogs.com) -> Створити формулу\n",
    "- Kaggle -> Database\n",
    "- Tableau -> Візуалізація даних"
   ]
  },
  {
   "cell_type": "code",
   "execution_count": null,
   "id": "d86b7de4",
   "metadata": {},
   "outputs": [],
   "source": []
  }
 ],
 "metadata": {
  "kernelspec": {
   "display_name": "Python 3 (ipykernel)",
   "language": "python",
   "name": "python3"
  },
  "language_info": {
   "codemirror_mode": {
    "name": "ipython",
    "version": 3
   },
   "file_extension": ".py",
   "mimetype": "text/x-python",
   "name": "python",
   "nbconvert_exporter": "python",
   "pygments_lexer": "ipython3",
   "version": "3.11.5"
  }
 },
 "nbformat": 4,
 "nbformat_minor": 5
}
