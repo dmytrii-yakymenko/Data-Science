{
 "cells": [
  {
   "cell_type": "markdown",
   "id": "579ab1d1",
   "metadata": {},
   "source": [
    "## Корисні сайти для Data Science:\n",
    "- [Datacamp](https://www.datacamp.com/?utm_source=google&utm_medium=paid_search&utm_campaignid=1242944157&utm_adgroupid=155612383848&utm_device=c&utm_keyword=datacamp&utm_matchtype=e&utm_network=g&utm_adpostion=&utm_creative=716242058105&utm_targetid=aud-2191467490070:kwd-297372810188&utm_loc_interest_ms=&utm_loc_physical_ms=1030460&utm_content=brd~pure~pure&utm_campaign=220808_1-sea~brd~branded_2-b2c_3-row-p2_4-rtw_5-na_6-na_7-le_8-pdsh-go_9-b-e_10-na_11-na-oct24&gad_source=1&gclid=Cj0KCQjwpvK4BhDUARIsADHt9sSd-Mj-V8LJYO_eTQQnSgiFC-v7x0skfDQGKM_2i4fCtT8RVsbO-NEaAsUaEALw_wcB) -> Markdown (Jupyter)\n",
    "- [Stack Overflow](https://stackoverflow.com/) -> Можна знайти рішення проблеми\n",
    "- [Codewars](https://www.codewars.com/) -> Python\n",
    "- [Stepik](https://welcome.stepik.org/ru) -> Курс Python, завдання, тренажер SQL\n",
    "- [Stratascratch](https://www.stratascratch.com/?via=quani&gad_source=1&gclid=Cj0KCQjwpvK4BhDUARIsADHt9sSMimx0BSjqMtLHhkSPctzybEZ0vdKHTZeoR453j6gGUAN9dZQHnMUaAmT3EALw_wcB) -> Практика на БД, завдання SQL схожі на реальні, також Python 50/50\n",
    "- [Sejda](https://www.sejda.com/) -> HTML to PDF\n",
    "- [Codecogs](Latex.codecogs.com) -> Створити формулу\n",
    "- [Kaggle](https://www.kaggle.com/) -> Database\n",
    "- [Tableau](https://www.tableau.com/) -> Візуалізація даних"
   ]
  }
 ],
 "metadata": {
  "kernelspec": {
   "display_name": "Python 3 (ipykernel)",
   "language": "python",
   "name": "python3"
  },
  "language_info": {
   "codemirror_mode": {
    "name": "ipython",
    "version": 3
   },
   "file_extension": ".py",
   "mimetype": "text/x-python",
   "name": "python",
   "nbconvert_exporter": "python",
   "pygments_lexer": "ipython3",
   "version": "3.11.5"
  }
 },
 "nbformat": 4,
 "nbformat_minor": 5
}
