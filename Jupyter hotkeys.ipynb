{
 "cells": [
  {
   "cell_type": "markdown",
   "id": "b1f87d88",
   "metadata": {},
   "source": [
    "# Гарячі клавіші Jupyter"
   ]
  },
  {
   "cell_type": "code",
   "execution_count": null,
   "id": "d5793d1f",
   "metadata": {},
   "outputs": [],
   "source": [
    "F: знайти і замінити  \n",
    "Ctrl-Shift-F: відкрити панель команд  \n",
    "Ctrl-Shift-P: відкрити панель команд  \n",
    "Enter: увійти в режим редагування  \n",
    "P: відкрити панель команд  \n",
    "Shift-Enter: запустити клітинку, вибрати нижче  \n",
    "Ctrl-Enter: запустити виділені клітинки  \n",
    "Alt-Enter: запустити клітинку та вставити нижче  \n",
    "Y: змінити клітинку на код  \n",
    "M: змінити комірку на маркдаун  \n",
    "R: змінити комірку на сиру  \n",
    "K: виберіть клітинку вище  \n",
    "Up: виберіть клітинку вище  \n",
    "Down: виберіть клітинку нижче  \n",
    "J: виберіть клітинку нижче  \n",
    "Shift-K: розширити виділені комірки вище  \n",
    "Shift-Up: розширення виділених клітинок вище  \n",
    "Shift-Down: розширення вибраних клітинок нижче\n",
    "Shift-J: розширення виділених клітинок нижче  \n",
    "Ctrl-A: вибрати всі клітинки  \n",
    "A: вставте клітинку вище  \n",
    "B: вставте клітинку нижче  \n",
    "X: вирізати виділені комірки  \n",
    "C: скопіювати виділені комірки  \n",
    "Shift-V: вставити клітинки вище  \n",
    "V: вставте клітинки внизу  \n",
    "Z: скасувати видалення клітинки  \n",
    "D, D: видалити виділені комірки  \n",
    "Shift-M: об’єднати вибрані клітинки або поточну клітинку з клітинкою нижче, якщо виділено лише одну клітинку  \n",
    "Ctrl-S: зберегти та поставити контрольну точку  \n",
    "S: Збереження та контрольна точка  \n",
    "L: перемикати номери рядків  \n",
    "O: перемикання виведення вибраних клітинок  \n",
    "Shift-O: увімкнути прокрутку виведених клітинок  \n",
    "H: показати комбінації клавіш  \n",
    "I,I: переривання ядра  \n",
    "0,0: перезапустити ядро ​​(з діалоговим вікном)  \n",
    "Shift-L: перемикає номери рядків у всіх комірках і зберігає налаштування  \n",
    "Shift-Space: прокручування блокнота вгору  \n",
    "Space: прокрутіть блокнот вниз\n",
    "Tab: завершення коду або відступ\n",
    "Shift-Tab: підказка\n",
    "Ctrl-]: відступ\n",
    "Ctrl-[: відступ\n",
    "Ctrl-A: вибрати все\n",
    "Ctrl-Z: скасувати\n",
    "Ctrl-/: коментар\n",
    "Ctrl-D: видалити весь рядок\n",
    "Ctrl-U: скасувати виділення\n",
    "Вставити: увімкнути прапорець перезапису\n",
    "Ctrl-Home: перейти до початку клітинки\n",
    "Ctrl-Up: перехід до початку клітинки\n",
    "Ctrl-End: перейти в кінець клітинки\n",
    "Ctrl-Down: перехід до кінця клітинки\n",
    "Ctrl-Left: перехід на одне слово вліво\n",
    "Ctrl-праворуч: перехід на одне слово праворуч\n",
    "Ctrl-Backspace: видалення попереднього слова\n",
    "Ctrl-Delete: видалити слово після\n",
    "Ctrl-Y: повторити\n",
    "Alt-U: повторити виділення\n",
    "Ctrl-M: увійти в командний режим\n",
    "Ctrl-Shift-F: відкрити панель команд\n",
    "Ctrl-Shift-P: відкрити панель команд\n",
    "Esc: перейти в командний режим\n",
    "Shift-Enter: запустити клітинку, вибрати нижче\n",
    "Ctrl-Enter: запустити виділені клітинки\n",
    "Alt-Enter: запустити клітинку та вставити нижче\n",
    "Ctrl-Shift-Minus: розділити клітинку на курсорі\n",
    "Ctrl-S: зберегти та поставити контрольну точку\n",
    "Down: переміщення курсору вниз\n",
    "Up: переміщення курсору вгору"
   ]
  },
  {
   "cell_type": "markdown",
   "id": "75141c82",
   "metadata": {},
   "source": [
    "# Можливості редагування в Jupyter"
   ]
  },
  {
   "cell_type": "markdown",
   "id": "3b6139fc",
   "metadata": {},
   "source": [
    "# Text -> 1\n",
    "## Text -> 2\n",
    "### Text -> 3\n",
    "#### Text -> 4\n",
    "##### Text -> 5\n",
    "###### Text -> 6\n",
    "Класичний текст без # -> Text"
   ]
  },
  {
   "cell_type": "markdown",
   "id": "04cdddbd",
   "metadata": {},
   "source": [
    "# Text -> 1\n",
    "## Text -> 2\n",
    "### Text -> 3\n",
    "#### Text -> 4\n",
    "##### Text -> 5\n",
    "###### Text -> 6\n",
    "Класичний текст без # -> Text"
   ]
  },
  {
   "cell_type": "markdown",
   "id": "ea575409",
   "metadata": {},
   "source": [
    "######"
   ]
  },
  {
   "cell_type": "markdown",
   "id": "321eac95",
   "metadata": {},
   "source": [
    "**Жирний текст**"
   ]
  },
  {
   "cell_type": "markdown",
   "id": "f77ae948",
   "metadata": {},
   "source": [
    "**Жирний текст**"
   ]
  },
  {
   "cell_type": "markdown",
   "id": "2d8d584f",
   "metadata": {},
   "source": [
    "###### "
   ]
  },
  {
   "cell_type": "markdown",
   "id": "a70e7c52",
   "metadata": {},
   "source": [
    "*Курсив*"
   ]
  },
  {
   "cell_type": "markdown",
   "id": "f93a8de6",
   "metadata": {},
   "source": [
    "*Курсив*"
   ]
  },
  {
   "cell_type": "markdown",
   "id": "92f9b634",
   "metadata": {},
   "source": [
    "###### "
   ]
  },
  {
   "cell_type": "markdown",
   "id": "ef0e2a93",
   "metadata": {},
   "source": [
    "- Список:\n",
    "\n",
    " 1. Один\n",
    " 2. Два\n",
    " 3. Три"
   ]
  },
  {
   "cell_type": "markdown",
   "id": "ed95de15",
   "metadata": {},
   "source": [
    "- Список:\n",
    "\n",
    " 1. Один\n",
    " 2. Два\n",
    " 3. Три"
   ]
  },
  {
   "cell_type": "markdown",
   "id": "f335fd93",
   "metadata": {},
   "source": [
    "###### "
   ]
  },
  {
   "cell_type": "markdown",
   "id": "e333f1e4",
   "metadata": {},
   "source": [
    "Списки:\n",
    "\n",
    "  - списки\n",
    "    - списки\n",
    "      - списки"
   ]
  },
  {
   "cell_type": "markdown",
   "id": "6350dfa7",
   "metadata": {},
   "source": [
    "Списки:\n",
    "\n",
    "  - списки\n",
    "    - списки\n",
    "      - списки"
   ]
  },
  {
   "cell_type": "markdown",
   "id": "467dad38",
   "metadata": {},
   "source": [
    "###### "
   ]
  },
  {
   "cell_type": "markdown",
   "id": "f0fcba23",
   "metadata": {},
   "source": [
    "- Таблиця:\n",
    "\n",
    "Заголовок 1  | Заголовок 2\n",
    "------------|------------\n",
    " Клітина 1    | Клітина 2   \n",
    " Клітина 3    | Клітина 4        \n"
   ]
  },
  {
   "cell_type": "markdown",
   "id": "4962e5ad",
   "metadata": {},
   "source": [
    "- Таблиця:\n",
    "\n",
    "Заголовок 1  | Заголовок 2\n",
    "------------|------------\n",
    " Клітина 1    | Клітина 2   \n",
    " Клітина 3    | Клітина 4        \n"
   ]
  },
  {
   "cell_type": "markdown",
   "id": "94df37b8",
   "metadata": {},
   "source": [
    "###### "
   ]
  },
  {
   "cell_type": "markdown",
   "id": "c464e19a",
   "metadata": {},
   "source": [
    "- Математична формула: $ (x-a)^2 + (y-b)^2 = R^2 $"
   ]
  },
  {
   "cell_type": "markdown",
   "id": "e92699b3",
   "metadata": {},
   "source": [
    "- Математична формула: $ (x-a)^2 + (y-b)^2 = R^2 $"
   ]
  },
  {
   "cell_type": "markdown",
   "id": "c96b14c5",
   "metadata": {},
   "source": [
    "###### "
   ]
  },
  {
   "cell_type": "markdown",
   "id": "3f8108f2",
   "metadata": {},
   "source": [
    "`Прямий текст`"
   ]
  },
  {
   "cell_type": "markdown",
   "id": "25afae03",
   "metadata": {},
   "source": [
    "`Прямий текст`"
   ]
  },
  {
   "cell_type": "markdown",
   "id": "a3d836c3",
   "metadata": {},
   "source": [
    "###### "
   ]
  },
  {
   "cell_type": "markdown",
   "id": "1af9b5b0",
   "metadata": {},
   "source": [
    "Перенести на новий рядок <2 пробіла>  \n",
    "Другий рядок"
   ]
  },
  {
   "cell_type": "markdown",
   "id": "9d8905f6",
   "metadata": {},
   "source": [
    "Перенести на новий рядок <2 пробіла>  \n",
    "Другий рядок"
   ]
  },
  {
   "cell_type": "markdown",
   "id": "3021d89f",
   "metadata": {},
   "source": [
    "###### "
   ]
  },
  {
   "cell_type": "markdown",
   "id": "2d5649ce",
   "metadata": {},
   "source": [
    "[Вікіпедія](https://uk.wikipedia.org/wiki/%D0%93%D0%BE%D0%BB%D0%BE%D0%B2%D0%BD%D0%B0_%D1%81%D1%82%D0%BE%D1%80%D1%96%D0%BD%D0%BA%D0%B0)"
   ]
  },
  {
   "cell_type": "markdown",
   "id": "97ce5a09",
   "metadata": {},
   "source": [
    "[Вікіпедія](https://uk.wikipedia.org/wiki/%D0%93%D0%BE%D0%BB%D0%BE%D0%B2%D0%BD%D0%B0_%D1%81%D1%82%D0%BE%D1%80%D1%96%D0%BD%D0%BA%D0%B0)"
   ]
  },
  {
   "cell_type": "markdown",
   "id": "f6c935a6",
   "metadata": {},
   "source": [
    "###### "
   ]
  },
  {
   "cell_type": "markdown",
   "id": "1af7cd1b",
   "metadata": {},
   "source": [
    "Починати з нового рядка\n",
    "```\n",
    "Один\n",
    "Два\n",
    "Три\n",
    "```\n",
    "Кінець."
   ]
  },
  {
   "cell_type": "markdown",
   "id": "5974e8d6",
   "metadata": {},
   "source": [
    "Починати з нового рядка\n",
    "```\n",
    "Один\n",
    "Два\n",
    "Три\n",
    "```\n",
    "Кінець."
   ]
  },
  {
   "cell_type": "markdown",
   "id": "35ddf4fb",
   "metadata": {},
   "source": [
    "###### "
   ]
  },
  {
   "cell_type": "markdown",
   "id": "25fe55d1",
   "metadata": {},
   "source": [
    "```python\n",
    "print('Hello')\n",
    "```"
   ]
  },
  {
   "cell_type": "markdown",
   "id": "c0f2bbe8",
   "metadata": {},
   "source": [
    "```python\n",
    "print('Hello')\n",
    "```"
   ]
  },
  {
   "cell_type": "markdown",
   "id": "873d7dfa",
   "metadata": {},
   "source": [
    "###### "
   ]
  },
  {
   "cell_type": "markdown",
   "id": "4d1d3848",
   "metadata": {},
   "source": [
    "![Зірка](https://e7.pngegg.com/pngimages/624/18/png-clipart-cute-little-star-little-stars-star-thumbnail.png \"Картинка\")"
   ]
  },
  {
   "cell_type": "markdown",
   "id": "5d6b60f2",
   "metadata": {},
   "source": [
    "![Зірка](https://e7.pngegg.com/pngimages/624/18/png-clipart-cute-little-star-little-stars-star-thumbnail.png \"Картинка\")"
   ]
  },
  {
   "cell_type": "markdown",
   "id": "3e437f24",
   "metadata": {},
   "source": [
    "###### "
   ]
  },
  {
   "cell_type": "markdown",
   "id": "22baa919",
   "metadata": {},
   "source": [
    "<img src=\"https://static-cse.canva.com/blob/847064/29.jpg\" width = 100 height = 100>"
   ]
  },
  {
   "cell_type": "markdown",
   "id": "4a1dedc3",
   "metadata": {},
   "source": [
    "<img src=\"https://static-cse.canva.com/blob/847064/29.jpg\" width = 100 height = 100>"
   ]
  }
 ],
 "metadata": {
  "kernelspec": {
   "display_name": "Python 3 (ipykernel)",
   "language": "python",
   "name": "python3"
  },
  "language_info": {
   "codemirror_mode": {
    "name": "ipython",
    "version": 3
   },
   "file_extension": ".py",
   "mimetype": "text/x-python",
   "name": "python",
   "nbconvert_exporter": "python",
   "pygments_lexer": "ipython3",
   "version": "3.11.5"
  }
 },
 "nbformat": 4,
 "nbformat_minor": 5
}
