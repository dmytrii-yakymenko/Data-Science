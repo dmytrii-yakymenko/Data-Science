{
 "cells": [
  {
   "cell_type": "markdown",
   "id": "af4ae32a",
   "metadata": {},
   "source": [
    "# Необхідні бібліотеки Python для Data Science"
   ]
  },
  {
   "cell_type": "markdown",
   "id": "7a018774",
   "metadata": {},
   "source": [
    "**import math** — це інструкція в Python, яка дозволяє імпортувати модуль math, що містить різноманітні математичні функції та константи. Це дозволяє вам використовувати функції, такі як тригонометричні функції, функції для обчислення квадратного кореня, логарифмів і багато інших. \n",
    "\n",
    "**import numpy as np** - це інструкція в Python, яка імпортує бібліотеку NumPy і надає їй псевдонім np. NumPy — це потужна бібліотека для роботи з числовими даними, яка забезпечує підтримку багатовимірних масивів (numpy arrays) і чисельних обчислень.  \n",
    "\n",
    "**from decimal import Decimal** -  це інструкція в Python, яка імпортує клас Decimal з модуля decimal. Цей клас використовується для роботи з числовими значеннями з високою точністю, що особливо корисно у фінансових обчисленнях і ситуаціях, де важлива точність (наприклад, в обчисленнях з грошима).  \n",
    "\n",
    "**from IPython.display import Image** - це інструкція в Python, яка імпортує клас Image з модуля IPython.display. Цей клас використовується для відображення зображень у Jupyter Notebook або IPython середовищі.  \n",
    "\n",
    "**import pandas as pd** - це інструкція в Python, яка імпортує бібліотеку Pandas і надає їй псевдонім pd. Pandas є потужною бібліотекою для аналізу та обробки даних, яка спрощує роботу з таблицями та структурованими даними.  \n",
    "\n",
    "**from functools import reduce** - це інструкція в Python, яка імпортує функцію reduce з модуля functools. Функція reduce використовується для поступового зведення (агрегації) послідовності значень до єдиного результату за допомогою функції. \n",
    "\n",
    "**from scipy import stats** - це інструкція в Python, яка імпортує модуль stats з бібліотеки SciPy. Модуль stats містить функції та методи для статистичного аналізу, включаючи ймовірнісні розподіли, статистичні тести та оцінки.  "
   ]
  }
 ],
 "metadata": {
  "kernelspec": {
   "display_name": "Python 3 (ipykernel)",
   "language": "python",
   "name": "python3"
  },
  "language_info": {
   "codemirror_mode": {
    "name": "ipython",
    "version": 3
   },
   "file_extension": ".py",
   "mimetype": "text/x-python",
   "name": "python",
   "nbconvert_exporter": "python",
   "pygments_lexer": "ipython3",
   "version": "3.11.5"
  }
 },
 "nbformat": 4,
 "nbformat_minor": 5
}
