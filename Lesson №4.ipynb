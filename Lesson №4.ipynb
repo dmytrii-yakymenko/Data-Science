{
 "cells": [
  {
   "cell_type": "markdown",
   "id": "3ac42ae7-6c07-4eb4-808c-6927cc0dd679",
   "metadata": {},
   "source": [
    "### Lesson №4"
   ]
  },
  {
   "cell_type": "markdown",
   "id": "786aae07-87fa-4128-8f77-c89b33613001",
   "metadata": {},
   "source": [
    "$Формула$\n",
    "\n",
    "$D = b^2 — 4ac$\n",
    "\n",
    "Зліва"
   ]
  },
  {
   "cell_type": "markdown",
   "id": "71f22af7-1ab3-4e81-9d43-c89b22568a21",
   "metadata": {},
   "source": [
    "<p style='text-align:center;'> $D=b^2—4ac$ </p>\n",
    "\n",
    "По середині"
   ]
  },
  {
   "cell_type": "markdown",
   "id": "2e38fdeb-6e87-429a-aeba-391e335b3fbd",
   "metadata": {},
   "source": [
    "<p style='text-align:right;'> $D=b^2—4ac$ </p>\n",
    "\n",
    "Право"
   ]
  }
 ],
 "metadata": {
  "kernelspec": {
   "display_name": "Python 3 (ipykernel)",
   "language": "python",
   "name": "python3"
  },
  "language_info": {
   "codemirror_mode": {
    "name": "ipython",
    "version": 3
   },
   "file_extension": ".py",
   "mimetype": "text/x-python",
   "name": "python",
   "nbconvert_exporter": "python",
   "pygments_lexer": "ipython3",
   "version": "3.12.2"
  }
 },
 "nbformat": 4,
 "nbformat_minor": 5
}
