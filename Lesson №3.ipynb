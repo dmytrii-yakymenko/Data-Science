{
 "cells": [
  {
   "cell_type": "markdown",
   "id": "a4b95637-21f8-4358-a4e9-ead43694bbee",
   "metadata": {},
   "source": [
    "### Lesson №3"
   ]
  },
  {
   "cell_type": "code",
   "execution_count": 5,
   "id": "195ce8e8-6e4b-46ea-8373-4cd2513577e5",
   "metadata": {},
   "outputs": [
    {
     "data": {
      "text/plain": [
       "np.float64(50.333333333333336)"
      ]
     },
     "execution_count": 5,
     "metadata": {},
     "output_type": "execute_result"
    }
   ],
   "source": [
    "import numpy as np\n",
    "np.mean([1, 50, 100]) # Середнє значення"
   ]
  },
  {
   "cell_type": "code",
   "execution_count": 6,
   "id": "492e2d3e-ccd5-4334-a4f0-351c8ad1bf43",
   "metadata": {},
   "outputs": [
    {
     "data": {
      "text/plain": [
       "np.float64(50.0)"
      ]
     },
     "execution_count": 6,
     "metadata": {},
     "output_type": "execute_result"
    }
   ],
   "source": [
    "np.mean([-1900, 2000])"
   ]
  },
  {
   "cell_type": "code",
   "execution_count": 7,
   "id": "8ee5f286-0007-47ae-be2a-e20bb23210f9",
   "metadata": {},
   "outputs": [
    {
     "data": {
      "text/plain": [
       "np.float64(40.418642563384864)"
      ]
     },
     "execution_count": 7,
     "metadata": {},
     "output_type": "execute_result"
    }
   ],
   "source": [
    "# Середньо квадратична похибка\n",
    "np.sqrt(((1 - 50)**2 + (50 - 50)**2 + (100 - 50)**2) / 3)"
   ]
  },
  {
   "cell_type": "code",
   "execution_count": 11,
   "id": "c29b85aa-da91-4169-8103-ca46af0270f9",
   "metadata": {},
   "outputs": [
    {
     "data": {
      "text/plain": [
       "np.float64(1950.0)"
      ]
     },
     "execution_count": 11,
     "metadata": {},
     "output_type": "execute_result"
    }
   ],
   "source": [
    "np.sqrt(((-1900 - 50)**2 + (2000 - 50)**2) / 2)"
   ]
  },
  {
   "cell_type": "markdown",
   "id": "705d5d94-ad37-4a34-9d92-d31df4ebf971",
   "metadata": {},
   "source": [
    "#### Знайти максимальне число зі списка не використовуючи встроєну функцію"
   ]
  },
  {
   "cell_type": "code",
   "execution_count": 15,
   "id": "d078a66d-9dc1-410f-b63e-8f9685a6cf37",
   "metadata": {},
   "outputs": [
    {
     "name": "stdout",
     "output_type": "stream",
     "text": [
      "-1\n"
     ]
    },
    {
     "data": {
      "text/plain": [
       "-1"
      ]
     },
     "execution_count": 15,
     "metadata": {},
     "output_type": "execute_result"
    }
   ],
   "source": [
    "lst = [-1, -10, -13, -2, -7, -20]\n",
    "\n",
    "max_n = lst[0]\n",
    "\n",
    "for i in lst[1:]:\n",
    "    if max_n < i:\n",
    "        max_n = i\n",
    "\n",
    "print(max_n)\n",
    "\n",
    "max(lst)"
   ]
  },
  {
   "cell_type": "markdown",
   "id": "bc1fd125-ce0b-4ea9-b143-de08ecef97a6",
   "metadata": {},
   "source": [
    "#### З 10-го у 2-ий код"
   ]
  },
  {
   "cell_type": "markdown",
   "id": "9aee9073-96aa-4a7a-8e52-f3e6fcf455d9",
   "metadata": {},
   "source": [
    "Щоб перевести певне число у 2-1 код, його потрібно ділити на 2 до кінця.\n",
    "\n",
    "Якщо число ділиться на 2 без остачі, тоді ставиться 0, якщо ні, то 1.\n",
    "\n",
    "12 | 0\n",
    "6  | 0\n",
    "3  | 0\n",
    "1  | 1\n",
    "\n",
    "**12** *10* = **1100** *2*"
   ]
  }
 ],
 "metadata": {
  "kernelspec": {
   "display_name": "Python 3 (ipykernel)",
   "language": "python",
   "name": "python3"
  },
  "language_info": {
   "codemirror_mode": {
    "name": "ipython",
    "version": 3
   },
   "file_extension": ".py",
   "mimetype": "text/x-python",
   "name": "python",
   "nbconvert_exporter": "python",
   "pygments_lexer": "ipython3",
   "version": "3.12.2"
  }
 },
 "nbformat": 4,
 "nbformat_minor": 5
}
