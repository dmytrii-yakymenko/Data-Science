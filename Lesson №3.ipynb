{
 "cells": [
  {
   "cell_type": "markdown",
   "id": "a4b95637-21f8-4358-a4e9-ead43694bbee",
   "metadata": {},
   "source": [
    "### Lesson №3"
   ]
  },
  {
   "cell_type": "code",
   "execution_count": 5,
   "id": "195ce8e8-6e4b-46ea-8373-4cd2513577e5",
   "metadata": {},
   "outputs": [
    {
     "data": {
      "text/plain": [
       "np.float64(50.333333333333336)"
      ]
     },
     "execution_count": 5,
     "metadata": {},
     "output_type": "execute_result"
    }
   ],
   "source": [
    "import numpy as np\n",
    "np.mean([1, 50, 100]) # Середнє значення"
   ]
  },
  {
   "cell_type": "code",
   "execution_count": 6,
   "id": "492e2d3e-ccd5-4334-a4f0-351c8ad1bf43",
   "metadata": {},
   "outputs": [
    {
     "data": {
      "text/plain": [
       "np.float64(50.0)"
      ]
     },
     "execution_count": 6,
     "metadata": {},
     "output_type": "execute_result"
    }
   ],
   "source": [
    "np.mean([-1900, 2000])"
   ]
  },
  {
   "cell_type": "code",
   "execution_count": 7,
   "id": "8ee5f286-0007-47ae-be2a-e20bb23210f9",
   "metadata": {},
   "outputs": [
    {
     "data": {
      "text/plain": [
       "np.float64(40.418642563384864)"
      ]
     },
     "execution_count": 7,
     "metadata": {},
     "output_type": "execute_result"
    }
   ],
   "source": [
    "# Середньо квадратична похибка\n",
    "np.sqrt(((1 - 50)**2 + (50 - 50)**2 + (100 - 50)**2) / 3)"
   ]
  },
  {
   "cell_type": "code",
   "execution_count": 11,
   "id": "c29b85aa-da91-4169-8103-ca46af0270f9",
   "metadata": {},
   "outputs": [
    {
     "data": {
      "text/plain": [
       "np.float64(1950.0)"
      ]
     },
     "execution_count": 11,
     "metadata": {},
     "output_type": "execute_result"
    }
   ],
   "source": [
    "np.sqrt(((-1900 - 50)**2 + (2000 - 50)**2) / 2)"
   ]
  },
  {
   "cell_type": "markdown",
   "id": "705d5d94-ad37-4a34-9d92-d31df4ebf971",
   "metadata": {},
   "source": [
    "#### Знайти максимальне число зі списка не використовуючи встроєну функцію"
   ]
  },
  {
   "cell_type": "code",
   "execution_count": 15,
   "id": "d078a66d-9dc1-410f-b63e-8f9685a6cf37",
   "metadata": {},
   "outputs": [
    {
     "name": "stdout",
     "output_type": "stream",
     "text": [
      "-1\n"
     ]
    },
    {
     "data": {
      "text/plain": [
       "-1"
      ]
     },
     "execution_count": 15,
     "metadata": {},
     "output_type": "execute_result"
    }
   ],
   "source": [
    "lst = [-1, -10, -13, -2, -7, -20]\n",
    "\n",
    "max_n = lst[0]\n",
    "\n",
    "for i in lst[1:]:\n",
    "    if max_n < i:\n",
    "        max_n = i\n",
    "\n",
    "print(max_n)\n",
    "\n",
    "max(lst)"
   ]
  },
  {
   "cell_type": "markdown",
   "id": "bc1fd125-ce0b-4ea9-b143-de08ecef97a6",
   "metadata": {},
   "source": [
    "#### З 10-го у 2-ий код"
   ]
  },
  {
   "cell_type": "markdown",
   "id": "9aee9073-96aa-4a7a-8e52-f3e6fcf455d9",
   "metadata": {},
   "source": [
    "Щоб перевести певне число у 2-1 код, його потрібно ділити на 2 до кінця.\n",
    "\n",
    "Якщо число ділиться на 2 без остачі, тоді ставиться 0, якщо ні, то 1.\n",
    "\n",
    "12 | 0\n",
    "6  | 0\n",
    "3  | 0\n",
    "1  | 1\n",
    "\n",
    "**12** *10* = **1100** *2*"
   ]
  },
  {
   "cell_type": "code",
   "execution_count": 1,
   "id": "092e15d2-3fcd-4b14-8c3c-48d0756c8f45",
   "metadata": {},
   "outputs": [
    {
     "data": {
      "text/plain": [
       "0.30000000000000004"
      ]
     },
     "execution_count": 1,
     "metadata": {},
     "output_type": "execute_result"
    }
   ],
   "source": [
    "a = 0.1 + 0.1 + 0.1\n",
    "a"
   ]
  },
  {
   "cell_type": "code",
   "execution_count": 2,
   "id": "e69d83aa-95d4-4fbf-8669-33d17675e292",
   "metadata": {},
   "outputs": [
    {
     "data": {
      "text/plain": [
       "False"
      ]
     },
     "execution_count": 2,
     "metadata": {},
     "output_type": "execute_result"
    }
   ],
   "source": [
    "a == 0.3"
   ]
  },
  {
   "cell_type": "code",
   "execution_count": 4,
   "id": "9f10fb9d-423f-41f6-a432-f3f00d8a52c7",
   "metadata": {},
   "outputs": [
    {
     "data": {
      "text/plain": [
       "True"
      ]
     },
     "execution_count": 4,
     "metadata": {},
     "output_type": "execute_result"
    }
   ],
   "source": [
    "round(a, 1) == 0.3 # Округлення на 1 цифру після коми"
   ]
  },
  {
   "cell_type": "markdown",
   "id": "d53bd758-aae2-40f8-9f91-5cf6b11d11e5",
   "metadata": {},
   "source": [
    "decimal - для точного обчисленн. Рахує точніше, але довше. "
   ]
  },
  {
   "cell_type": "code",
   "execution_count": 9,
   "id": "0a3a4e12-22ba-4e66-9bb0-a98a5028ff69",
   "metadata": {},
   "outputs": [
    {
     "data": {
      "text/plain": [
       "Decimal('0.3')"
      ]
     },
     "execution_count": 9,
     "metadata": {},
     "output_type": "execute_result"
    }
   ],
   "source": [
    "from decimal import Decimal\n",
    "\n",
    "Decimal('0.1') + Decimal('0.1') + Decimal('0.1')"
   ]
  },
  {
   "cell_type": "code",
   "execution_count": 10,
   "id": "12c45d20-e8a8-4c76-ba1c-e5f3c7a3d407",
   "metadata": {},
   "outputs": [
    {
     "data": {
      "text/plain": [
       "5.0"
      ]
     },
     "execution_count": 10,
     "metadata": {},
     "output_type": "execute_result"
    }
   ],
   "source": [
    "import math\n",
    "# Корінь\n",
    "25 ** (0.5)"
   ]
  },
  {
   "cell_type": "code",
   "execution_count": 11,
   "id": "4b903b13-36ea-43e5-997d-6538adfedd1e",
   "metadata": {},
   "outputs": [
    {
     "data": {
      "text/plain": [
       "5.0"
      ]
     },
     "execution_count": 11,
     "metadata": {},
     "output_type": "execute_result"
    }
   ],
   "source": [
    "math.sqrt(25)"
   ]
  },
  {
   "cell_type": "code",
   "execution_count": 12,
   "id": "d564a3fc-9ec7-4386-96ec-9f7dc77be642",
   "metadata": {},
   "outputs": [
    {
     "data": {
      "text/plain": [
       "32.0"
      ]
     },
     "execution_count": 12,
     "metadata": {},
     "output_type": "execute_result"
    }
   ],
   "source": [
    "# Степінь\n",
    "math.pow(2, 5)"
   ]
  },
  {
   "cell_type": "code",
   "execution_count": 13,
   "id": "c4b9df80-bda3-45a9-9ab0-92e18a141a29",
   "metadata": {},
   "outputs": [
    {
     "data": {
      "text/plain": [
       "32"
      ]
     },
     "execution_count": 13,
     "metadata": {},
     "output_type": "execute_result"
    }
   ],
   "source": [
    "2 ** 5"
   ]
  },
  {
   "cell_type": "code",
   "execution_count": 14,
   "id": "037dc1ce-c15f-4d4d-9dbd-a45f6c3acb19",
   "metadata": {},
   "outputs": [
    {
     "data": {
      "text/plain": [
       "120"
      ]
     },
     "execution_count": 14,
     "metadata": {},
     "output_type": "execute_result"
    }
   ],
   "source": [
    "# Факторіали\n",
    "math.factorial(5)"
   ]
  },
  {
   "cell_type": "code",
   "execution_count": 15,
   "id": "4243ed49-db69-4f74-bea3-5e5a29ee2f41",
   "metadata": {},
   "outputs": [
    {
     "name": "stdout",
     "output_type": "stream",
     "text": [
      "120\n"
     ]
    }
   ],
   "source": [
    "a = 1\n",
    "\n",
    "for i in range(1, 6):\n",
    "    a *= i\n",
    "\n",
    "print(a)"
   ]
  },
  {
   "cell_type": "markdown",
   "id": "3fe94b94-af11-4e78-a4de-15dc1f2dc6ae",
   "metadata": {},
   "source": [
    "Розрахувати місячні виплати m і сумарну виплату s по кредиту. Про кредит відомо, що він становить n гривень, береться на y років, під р % ."
   ]
  },
  {
   "cell_type": "markdown",
   "id": "978e3ad5-2f77-416d-89c3-4c8cd443737e",
   "metadata": {},
   "source": [
    "10к на 5 років під 10%\n",
    "Ануєтитний платіж:\n",
    "* Тут має бути формула *\n",
    "from IPython.display import Image\n",
    "Image ('anuitet.jpg') # Встановити фото"
   ]
  },
  {
   "cell_type": "code",
   "execution_count": 18,
   "id": "2df9d3cb-dfe8-42ab-aa51-3870978d413f",
   "metadata": {},
   "outputs": [
    {
     "data": {
      "text/plain": [
       "2637.974807947452"
      ]
     },
     "execution_count": 18,
     "metadata": {},
     "output_type": "execute_result"
    }
   ],
   "source": [
    "s = 10000 # \n",
    "r = 0.1 # \n",
    "n = 5 # \n",
    "s * (r * (1 + r) ** n) / ((1 + r) ** n - 1)\n",
    "\n",
    "# Потрібно платити за рік:"
   ]
  },
  {
   "cell_type": "code",
   "execution_count": 19,
   "id": "d746b079-d57c-445f-9205-d753fb2592f0",
   "metadata": {},
   "outputs": [
    {
     "data": {
      "text/plain": [
       "13185"
      ]
     },
     "execution_count": 19,
     "metadata": {},
     "output_type": "execute_result"
    }
   ],
   "source": [
    "2637 * 5 # Потрібно заплатити за 5 років"
   ]
  },
  {
   "cell_type": "code",
   "execution_count": 20,
   "id": "20b924d5-f92b-498e-b899-00123ddae706",
   "metadata": {},
   "outputs": [
    {
     "data": {
      "text/plain": [
       "3185"
      ]
     },
     "execution_count": 20,
     "metadata": {},
     "output_type": "execute_result"
    }
   ],
   "source": [
    "13185 - 10000\n",
    "# Переплата:"
   ]
  }
 ],
 "metadata": {
  "kernelspec": {
   "display_name": "Python 3 (ipykernel)",
   "language": "python",
   "name": "python3"
  },
  "language_info": {
   "codemirror_mode": {
    "name": "ipython",
    "version": 3
   },
   "file_extension": ".py",
   "mimetype": "text/x-python",
   "name": "python",
   "nbconvert_exporter": "python",
   "pygments_lexer": "ipython3",
   "version": "3.12.2"
  }
 },
 "nbformat": 4,
 "nbformat_minor": 5
}
