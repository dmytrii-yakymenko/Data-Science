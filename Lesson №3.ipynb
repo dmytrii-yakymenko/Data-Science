{
 "cells": [
  {
   "cell_type": "markdown",
   "id": "bd07ed78-ecd1-4dc3-91f0-fb7459c84a3e",
   "metadata": {},
   "source": [
    "#### Середньо квадратична похибка"
   ]
  },
  {
   "cell_type": "markdown",
   "id": "eebe5340-69cf-4d36-b707-1f0b827e93b0",
   "metadata": {},
   "source": [
    "$\\sqrt{\\sum\\left(x-\\bar{x}\\right)^2}$"
   ]
  },
  {
   "cell_type": "markdown",
   "id": "5c2d84bc-b6f2-4e35-8845-b8c7619b3f3a",
   "metadata": {},
   "source": [
    "Це частина обчислення стандартного відхилення, але без нормування (без поділу на 𝑛 чи 𝑛−1).\n",
    "\n",
    "Генеральна сукупність -> n - 1  \n",
    "Вибірка -> n"
   ]
  },
  {
   "cell_type": "markdown",
   "id": "fa53a61c-8e00-4227-819a-e8bafecc002d",
   "metadata": {},
   "source": [
    "#### Знайти середньо квадратичну помилку та порівняти її у 2 виразах"
   ]
  },
  {
   "cell_type": "code",
   "execution_count": null,
   "id": "e2020dd1-8a51-41e4-ab88-c8ab069c9c26",
   "metadata": {},
   "outputs": [],
   "source": [
    "import numpy as np"
   ]
  },
  {
   "cell_type": "code",
   "execution_count": 2,
   "id": "d8479965-5557-46f1-bf7f-78823e921b40",
   "metadata": {},
   "outputs": [
    {
     "data": {
      "text/plain": [
       "np.float64(50.333333333333336)"
      ]
     },
     "execution_count": 2,
     "metadata": {},
     "output_type": "execute_result"
    }
   ],
   "source": [
    "np.mean([1, 50, 100]) # Середнє значення"
   ]
  },
  {
   "cell_type": "code",
   "execution_count": 2,
   "id": "492e2d3e-ccd5-4334-a4f0-351c8ad1bf43",
   "metadata": {},
   "outputs": [
    {
     "data": {
      "text/plain": [
       "np.float64(50.0)"
      ]
     },
     "execution_count": 2,
     "metadata": {},
     "output_type": "execute_result"
    }
   ],
   "source": [
    "np.mean([-1900, 2000])"
   ]
  },
  {
   "cell_type": "code",
   "execution_count": 3,
   "id": "8ee5f286-0007-47ae-be2a-e20bb23210f9",
   "metadata": {},
   "outputs": [
    {
     "data": {
      "text/plain": [
       "np.float64(40.418642563384864)"
      ]
     },
     "execution_count": 3,
     "metadata": {},
     "output_type": "execute_result"
    }
   ],
   "source": [
    "np.sqrt(((1 - 50)**2 + (50 - 50)**2 + (100 - 50)**2) / 3)"
   ]
  },
  {
   "cell_type": "code",
   "execution_count": 4,
   "id": "c29b85aa-da91-4169-8103-ca46af0270f9",
   "metadata": {},
   "outputs": [
    {
     "data": {
      "text/plain": [
       "np.float64(1950.0)"
      ]
     },
     "execution_count": 4,
     "metadata": {},
     "output_type": "execute_result"
    }
   ],
   "source": [
    "np.sqrt(((-1900 - 50)**2 + (2000 - 50)**2) / 2)"
   ]
  },
  {
   "cell_type": "markdown",
   "id": "50496e7e-9dfe-4454-bad6-0e2795f58895",
   "metadata": {},
   "source": [
    "#"
   ]
  },
  {
   "cell_type": "markdown",
   "id": "705d5d94-ad37-4a34-9d92-d31df4ebf971",
   "metadata": {},
   "source": [
    "#### Знайти максимальне число зі списка не використовуючи встроєну функцію"
   ]
  },
  {
   "cell_type": "code",
   "execution_count": 5,
   "id": "d078a66d-9dc1-410f-b63e-8f9685a6cf37",
   "metadata": {},
   "outputs": [
    {
     "name": "stdout",
     "output_type": "stream",
     "text": [
      "-1\n"
     ]
    },
    {
     "data": {
      "text/plain": [
       "-1"
      ]
     },
     "execution_count": 5,
     "metadata": {},
     "output_type": "execute_result"
    }
   ],
   "source": [
    "lst = [-1, -10, -13, -2, -7, -20]\n",
    "\n",
    "max_n = lst[0]\n",
    "\n",
    "for i in lst[1:]:\n",
    "    if max_n < i:\n",
    "        max_n = i\n",
    "\n",
    "print(max_n)\n",
    "\n",
    "max(lst)"
   ]
  },
  {
   "cell_type": "markdown",
   "id": "b8688d24-821c-4a07-a6fc-dee2bc148daf",
   "metadata": {},
   "source": [
    "#"
   ]
  },
  {
   "cell_type": "markdown",
   "id": "bc1fd125-ce0b-4ea9-b143-de08ecef97a6",
   "metadata": {},
   "source": [
    "#### З десятковвого у двійковий код"
   ]
  },
  {
   "cell_type": "markdown",
   "id": "9aee9073-96aa-4a7a-8e52-f3e6fcf455d9",
   "metadata": {},
   "source": [
    "Щоб перевести певне число у 2-й код, його потрібно ділити на 2 до кінця.  \n",
    "Якщо число ділиться на 2 без остачі, тоді ставиться 0, якщо ні, то 1.\n",
    "\n",
    "12 | 0  \n",
    "6  | 0  \n",
    "3  | 1  \n",
    "1  | 1\n",
    "\n",
    "$12 _ { 10 } = 1 1 0 0 _ { 2 }$"
   ]
  },
  {
   "cell_type": "code",
   "execution_count": 6,
   "id": "092e15d2-3fcd-4b14-8c3c-48d0756c8f45",
   "metadata": {},
   "outputs": [
    {
     "data": {
      "text/plain": [
       "0.30000000000000004"
      ]
     },
     "execution_count": 6,
     "metadata": {},
     "output_type": "execute_result"
    }
   ],
   "source": [
    "a = 0.1 + 0.1 + 0.1\n",
    "a"
   ]
  },
  {
   "cell_type": "code",
   "execution_count": 7,
   "id": "e69d83aa-95d4-4fbf-8669-33d17675e292",
   "metadata": {},
   "outputs": [
    {
     "data": {
      "text/plain": [
       "False"
      ]
     },
     "execution_count": 7,
     "metadata": {},
     "output_type": "execute_result"
    }
   ],
   "source": [
    "a == 0.3"
   ]
  },
  {
   "cell_type": "code",
   "execution_count": 8,
   "id": "9f10fb9d-423f-41f6-a432-f3f00d8a52c7",
   "metadata": {},
   "outputs": [
    {
     "data": {
      "text/plain": [
       "True"
      ]
     },
     "execution_count": 8,
     "metadata": {},
     "output_type": "execute_result"
    }
   ],
   "source": [
    "round(a, 1) == 0.3 # Округлення на 1 цифру після коми"
   ]
  },
  {
   "cell_type": "code",
   "execution_count": 6,
   "id": "0a3a4e12-22ba-4e66-9bb0-a98a5028ff69",
   "metadata": {},
   "outputs": [],
   "source": [
    "from decimal import Decimal # decimal - для точного обчисленн. Рахує точніше, але довше."
   ]
  },
  {
   "cell_type": "code",
   "execution_count": 7,
   "id": "ca170fff-3e08-496a-a539-cb9d08744d9b",
   "metadata": {},
   "outputs": [
    {
     "data": {
      "text/plain": [
       "Decimal('0.3')"
      ]
     },
     "execution_count": 7,
     "metadata": {},
     "output_type": "execute_result"
    }
   ],
   "source": [
    "Decimal('0.1') + Decimal('0.1') + Decimal('0.1') # Отримати точне число"
   ]
  },
  {
   "cell_type": "markdown",
   "id": "acae6b07-85af-45f3-a344-88a69395a3f2",
   "metadata": {},
   "source": [
    "#"
   ]
  },
  {
   "cell_type": "markdown",
   "id": "268daf8e-32ec-423d-bf70-02ef142511db",
   "metadata": {},
   "source": [
    "#### Бібліотека math надає доступ до математичних функцій і операцій, що не входять до стандартного набору операторів мови. "
   ]
  },
  {
   "cell_type": "code",
   "execution_count": 8,
   "id": "b34c1dac-6b9e-4c33-ab52-df573aaf52d5",
   "metadata": {},
   "outputs": [],
   "source": [
    "import math"
   ]
  },
  {
   "cell_type": "code",
   "execution_count": 11,
   "id": "4b903b13-36ea-43e5-997d-6538adfedd1e",
   "metadata": {},
   "outputs": [
    {
     "data": {
      "text/plain": [
       "5.0"
      ]
     },
     "execution_count": 11,
     "metadata": {},
     "output_type": "execute_result"
    }
   ],
   "source": [
    "math.sqrt(25) # Корінь"
   ]
  },
  {
   "cell_type": "code",
   "execution_count": 11,
   "id": "12c45d20-e8a8-4c76-ba1c-e5f3c7a3d407",
   "metadata": {},
   "outputs": [
    {
     "data": {
      "text/plain": [
       "5.0"
      ]
     },
     "execution_count": 11,
     "metadata": {},
     "output_type": "execute_result"
    }
   ],
   "source": [
    "25 ** (0.5) # Альтернатива"
   ]
  },
  {
   "cell_type": "code",
   "execution_count": 10,
   "id": "d564a3fc-9ec7-4386-96ec-9f7dc77be642",
   "metadata": {},
   "outputs": [
    {
     "data": {
      "text/plain": [
       "32.0"
      ]
     },
     "execution_count": 10,
     "metadata": {},
     "output_type": "execute_result"
    }
   ],
   "source": [
    "math.pow(2, 5) # Степінь"
   ]
  },
  {
   "cell_type": "code",
   "execution_count": 12,
   "id": "c4b9df80-bda3-45a9-9ab0-92e18a141a29",
   "metadata": {},
   "outputs": [
    {
     "data": {
      "text/plain": [
       "32"
      ]
     },
     "execution_count": 12,
     "metadata": {},
     "output_type": "execute_result"
    }
   ],
   "source": [
    "2 ** 5 # Альтернатива"
   ]
  },
  {
   "cell_type": "code",
   "execution_count": 13,
   "id": "037dc1ce-c15f-4d4d-9dbd-a45f6c3acb19",
   "metadata": {},
   "outputs": [
    {
     "data": {
      "text/plain": [
       "120"
      ]
     },
     "execution_count": 13,
     "metadata": {},
     "output_type": "execute_result"
    }
   ],
   "source": [
    "math.factorial(5) # Факторіал"
   ]
  },
  {
   "cell_type": "code",
   "execution_count": 14,
   "id": "4243ed49-db69-4f74-bea3-5e5a29ee2f41",
   "metadata": {},
   "outputs": [
    {
     "name": "stdout",
     "output_type": "stream",
     "text": [
      "120\n"
     ]
    }
   ],
   "source": [
    "# Альтернатива\n",
    "a = 1\n",
    "\n",
    "for i in range(1, 6):\n",
    "    a *= i\n",
    "\n",
    "print(a)"
   ]
  },
  {
   "cell_type": "markdown",
   "id": "5360993d-445f-4f58-8a7b-834040ed7385",
   "metadata": {},
   "source": [
    "#"
   ]
  },
  {
   "cell_type": "markdown",
   "id": "3fe94b94-af11-4e78-a4de-15dc1f2dc6ae",
   "metadata": {},
   "source": [
    "#### Розрахувати місячні виплати m і сумарну виплату s по кредиту. Про кредит відомо, що він становить n гривень, береться на y років, під р %"
   ]
  },
  {
   "cell_type": "markdown",
   "id": "978e3ad5-2f77-416d-89c3-4c8cd443737e",
   "metadata": {},
   "source": [
    "10000 на 5 років під 10%\n",
    "\n",
    "Ануєтитний платіж:"
   ]
  },
  {
   "cell_type": "code",
   "execution_count": 26,
   "id": "62697c85-906c-44a5-9155-7c41208ed3db",
   "metadata": {},
   "outputs": [
    {
     "data": {
      "image/jpeg": "[encoded data removed]",
      "text/plain": [
       "<IPython.core.display.Image object>"
      ]
     },
     "execution_count": 26,
     "metadata": {},
     "output_type": "execute_result"
    }
   ],
   "source": [
    "from IPython.display import Image\n",
    "Image('anuitet.jpg') # Встановити фото"
   ]
  },
  {
   "cell_type": "code",
   "execution_count": 27,
   "id": "2df9d3cb-dfe8-42ab-aa51-3870978d413f",
   "metadata": {},
   "outputs": [
    {
     "data": {
      "text/plain": [
       "2637.974807947452"
      ]
     },
     "execution_count": 27,
     "metadata": {},
     "output_type": "execute_result"
    }
   ],
   "source": [
    "# Потрібно платити за рік\n",
    "\n",
    "s = 10000 # Сума, яка необхідна\n",
    "r = 0.1 # 10% -> перевести у десяткове число -> 0.1\n",
    "n = 5 # Кількість років / Домножити на 12, якщо це місячний %\n",
    "s * (r * (1 + r) ** n) / ((1 + r) ** n - 1)"
   ]
  },
  {
   "cell_type": "code",
   "execution_count": 17,
   "id": "d746b079-d57c-445f-9205-d753fb2592f0",
   "metadata": {},
   "outputs": [
    {
     "data": {
      "text/plain": [
       "13185"
      ]
     },
     "execution_count": 17,
     "metadata": {},
     "output_type": "execute_result"
    }
   ],
   "source": [
    "2637 * 5 # Потрібно заплатити за 5 років"
   ]
  },
  {
   "cell_type": "code",
   "execution_count": 18,
   "id": "20b924d5-f92b-498e-b899-00123ddae706",
   "metadata": {},
   "outputs": [
    {
     "data": {
      "text/plain": [
       "3185"
      ]
     },
     "execution_count": 18,
     "metadata": {},
     "output_type": "execute_result"
    }
   ],
   "source": [
    "13185 - 10000 # Переплата"
   ]
  },
  {
   "cell_type": "markdown",
   "id": "bfefcc4f-d28c-45cd-b3e0-e587e039f4af",
   "metadata": {},
   "source": [
    "#"
   ]
  },
  {
   "cell_type": "markdown",
   "id": "4b4c887b-f20c-4799-b658-bd945e8b88f3",
   "metadata": {},
   "source": [
    "#### Користувач вводить 2 букви, визначити скільки між ними знаходиться інших букв."
   ]
  },
  {
   "cell_type": "code",
   "execution_count": 4,
   "id": "c07075ac-52ed-479f-b1af-1806ac920ef5",
   "metadata": {},
   "outputs": [
    {
     "name": "stdin",
     "output_type": "stream",
     "text": [
      "Enter letter 1:  f\n",
      "Enter letter 2:  a\n"
     ]
    },
    {
     "name": "stdout",
     "output_type": "stream",
     "text": [
      "Result: 4\n"
     ]
    }
   ],
   "source": [
    "lst = ['a', 'b', 'c', 'd', 'e', 'f', 'g', 'h', 'i', 'j', 'k', 'l', 'm', 'n', 'o', 'p', 'q', 'r', 's', 't', 'u', 'v', 'w', 'x', 'y', 'z']\n",
    "\n",
    "letter_1 = input('Enter letter 1: ')\n",
    "letter_2 = input('Enter letter 2: ')\n",
    "print(f'Result: {abs(lst.index(letter_2) - lst.index(letter_1)) - 1}') # abs -> Математичний модуль"
   ]
  },
  {
   "cell_type": "code",
   "execution_count": 1,
   "id": "18af7785-6541-4d47-850a-30f7a8f3e43e",
   "metadata": {},
   "outputs": [],
   "source": [
    "#"
   ]
  },
  {
   "cell_type": "markdown",
   "id": "3e3cb137-8e12-465f-960b-b80bc6198171",
   "metadata": {},
   "source": [
    "#### Взаємодія з текстовим типом даних"
   ]
  },
  {
   "cell_type": "code",
   "execution_count": 5,
   "id": "44edd4f9-21dd-4359-84e3-abd98ede87bf",
   "metadata": {},
   "outputs": [
    {
     "data": {
      "text/plain": [
       "'u'"
      ]
     },
     "execution_count": 5,
     "metadata": {},
     "output_type": "execute_result"
    }
   ],
   "source": [
    "text = 'House a life' # Можна звертатись по індексу, як і зі списками\n",
    "text[2]"
   ]
  },
  {
   "cell_type": "code",
   "execution_count": 3,
   "id": "059798a8-4153-4600-98ee-a29c16c11486",
   "metadata": {},
   "outputs": [
    {
     "data": {
      "text/plain": [
       "2"
      ]
     },
     "execution_count": 3,
     "metadata": {},
     "output_type": "execute_result"
    }
   ],
   "source": [
    "text = 'a + b + a'\n",
    "text.count('+') # Кількість + у тексті"
   ]
  },
  {
   "cell_type": "code",
   "execution_count": 21,
   "id": "5700c86d-5bc8-4ca1-826b-d99a3ecec20c",
   "metadata": {},
   "outputs": [
    {
     "data": {
      "text/plain": [
       "0"
      ]
     },
     "execution_count": 21,
     "metadata": {},
     "output_type": "execute_result"
    }
   ],
   "source": [
    "text = 'akualas'\n",
    "text.find('a') # 1 буква 'a' у тексті"
   ]
  },
  {
   "cell_type": "code",
   "execution_count": 22,
   "id": "256b9e37-8fc6-4865-9454-f00ad0250c8c",
   "metadata": {},
   "outputs": [
    {
     "data": {
      "text/plain": [
       "5"
      ]
     },
     "execution_count": 22,
     "metadata": {},
     "output_type": "execute_result"
    }
   ],
   "source": [
    "text.rfind('a') # Остання буква 'a' у тексті"
   ]
  },
  {
   "cell_type": "markdown",
   "id": "e92765bb-2083-4e99-ba7d-05913bbecbe2",
   "metadata": {},
   "source": [
    "Знайти усі букви 'a':"
   ]
  },
  {
   "cell_type": "code",
   "execution_count": 23,
   "id": "c7378675-423a-47b3-894d-6eea8357cda9",
   "metadata": {},
   "outputs": [
    {
     "name": "stdout",
     "output_type": "stream",
     "text": [
      "(0, 'a')\n",
      "(1, 'k')\n",
      "(2, 'u')\n",
      "(3, 'a')\n",
      "(4, 'l')\n",
      "(5, 'a')\n",
      "(6, 's')\n"
     ]
    }
   ],
   "source": [
    "for i in enumerate(text): # Пронумерувати\n",
    "    print(i)"
   ]
  },
  {
   "cell_type": "code",
   "execution_count": 24,
   "id": "2240b1ea-8201-414e-af39-90a0b9192a3d",
   "metadata": {},
   "outputs": [
    {
     "name": "stdout",
     "output_type": "stream",
     "text": [
      "0 -> a\n",
      "3 -> a\n",
      "5 -> a\n"
     ]
    }
   ],
   "source": [
    "for number, letter in enumerate(text):\n",
    "    if letter == 'a':\n",
    "        print(f'{number} -> {letter}')"
   ]
  },
  {
   "cell_type": "code",
   "execution_count": 29,
   "id": "a7da061b-20df-4fb1-a7ea-bdbd5b1b6f26",
   "metadata": {},
   "outputs": [
    {
     "data": {
      "text/html": [
       "<div>\n",
       "<style scoped>\n",
       "    .dataframe tbody tr th:only-of-type {\n",
       "        vertical-align: middle;\n",
       "    }\n",
       "\n",
       "    .dataframe tbody tr th {\n",
       "        vertical-align: top;\n",
       "    }\n",
       "\n",
       "    .dataframe thead th {\n",
       "        text-align: right;\n",
       "    }\n",
       "</style>\n",
       "<table border=\"1\" class=\"dataframe\">\n",
       "  <thead>\n",
       "    <tr style=\"text-align: right;\">\n",
       "      <th></th>\n",
       "      <th>Name</th>\n",
       "      <th>Price</th>\n",
       "      <th>Memory</th>\n",
       "    </tr>\n",
       "  </thead>\n",
       "  <tbody>\n",
       "    <tr>\n",
       "      <th>0</th>\n",
       "      <td>Xiaomi</td>\n",
       "      <td>100</td>\n",
       "      <td>128</td>\n",
       "    </tr>\n",
       "    <tr>\n",
       "      <th>1</th>\n",
       "      <td>Apple</td>\n",
       "      <td>1000</td>\n",
       "      <td>256</td>\n",
       "    </tr>\n",
       "    <tr>\n",
       "      <th>2</th>\n",
       "      <td>Samsung</td>\n",
       "      <td>600</td>\n",
       "      <td>256</td>\n",
       "    </tr>\n",
       "  </tbody>\n",
       "</table>\n",
       "</div>"
      ],
      "text/plain": [
       "      Name  Price  Memory\n",
       "0   Xiaomi    100     128\n",
       "1    Apple   1000     256\n",
       "2  Samsung    600     256"
      ]
     },
     "execution_count": 29,
     "metadata": {},
     "output_type": "execute_result"
    }
   ],
   "source": [
    "import pandas as pd\n",
    "\n",
    "dct = {\n",
    "    'Name': ['Xiaomi', 'Apple', 'Samsung'],\n",
    "    'Price': [100, 1000, 600],\n",
    "    'Memory': [128, 256, 256]\n",
    "}\n",
    "df = pd.DataFrame(dct) # Таблиця\n",
    "df.to_csv('Lesson №3.csv') # Зберегти у CSV\n",
    "df"
   ]
  },
  {
   "cell_type": "code",
   "execution_count": 32,
   "id": "e5ad4521-55d8-45b3-9c00-cd0cd73a01f5",
   "metadata": {},
   "outputs": [],
   "source": [
    "dct = {\n",
    "    'Bob': 19,\n",
    "    'Adam': 26,\n",
    "    'John': 30,\n",
    "    'Kevin': 19,\n",
    "    'Tom': 39\n",
    "}"
   ]
  },
  {
   "cell_type": "code",
   "execution_count": 37,
   "id": "1eb1436d-3698-4643-9617-99eecd221882",
   "metadata": {},
   "outputs": [
    {
     "data": {
      "text/plain": [
       "dict_keys(['Bob', 'Adam', 'John', 'Kevin', 'Tom'])"
      ]
     },
     "execution_count": 37,
     "metadata": {},
     "output_type": "execute_result"
    }
   ],
   "source": [
    "dct.keys() # Висести унікальні ключі"
   ]
  },
  {
   "cell_type": "code",
   "execution_count": 38,
   "id": "4772a0af-b369-4d06-8271-3737138f3d08",
   "metadata": {},
   "outputs": [
    {
     "data": {
      "text/plain": [
       "dict_values([19, 26, 30, 19, 39])"
      ]
     },
     "execution_count": 38,
     "metadata": {},
     "output_type": "execute_result"
    }
   ],
   "source": [
    "dct.values() # Вивести значення"
   ]
  },
  {
   "cell_type": "code",
   "execution_count": 39,
   "id": "de722e94-2d3f-44dc-8620-18fa64a2db70",
   "metadata": {},
   "outputs": [
    {
     "data": {
      "text/plain": [
       "dict_items([('Bob', 19), ('Adam', 26), ('John', 30), ('Kevin', 19), ('Tom', 39)])"
      ]
     },
     "execution_count": 39,
     "metadata": {},
     "output_type": "execute_result"
    }
   ],
   "source": [
    "dct.items() # Дістати ключ і значення"
   ]
  },
  {
   "cell_type": "code",
   "execution_count": 41,
   "id": "e8916f88-7661-40d4-898c-217a4648641f",
   "metadata": {},
   "outputs": [
    {
     "name": "stdout",
     "output_type": "stream",
     "text": [
      "Bob 19\n",
      "Adam 26\n",
      "John 30\n",
      "Kevin 19\n",
      "Tom 39\n"
     ]
    }
   ],
   "source": [
    "dct = {\n",
    "    'Bob': 19,\n",
    "    'Adam': 26,\n",
    "    'John': 30,\n",
    "    'Kevin': 19,\n",
    "    'Tom': 39,\n",
    "    'Jerry': 299\n",
    "}\n",
    "for key, value in dct.items():\n",
    "    if value < 100: # Забрали виброс (Jerry)\n",
    "        print(key, value)"
   ]
  },
  {
   "cell_type": "markdown",
   "id": "3707e5ef-d1ad-43d7-8a64-61f4fc768c48",
   "metadata": {},
   "source": [
    "Створити функцію, яка буде виводити усіх людей зі словника за однаковим віком."
   ]
  },
  {
   "cell_type": "code",
   "execution_count": 45,
   "id": "273aceb8-8ba8-45be-a0b3-e1611f365f00",
   "metadata": {},
   "outputs": [
    {
     "data": {
      "text/plain": [
       "{'Bob': 19, 'Adam': 26, 'John': 30, 'Kevin': 19, 'Tom': 39, 'Jerry': 299}"
      ]
     },
     "execution_count": 45,
     "metadata": {},
     "output_type": "execute_result"
    }
   ],
   "source": [
    "a = 19\n",
    "for key,values in dct.items():\n",
    "    if int(value) == a:\n",
    "        print(key)\n",
    "dct # ПОФІКСИТИ ВИВОД"
   ]
  },
  {
   "cell_type": "code",
   "execution_count": 47,
   "id": "048556db-3744-4302-bc57-ce7febba765a",
   "metadata": {},
   "outputs": [
    {
     "name": "stdout",
     "output_type": "stream",
     "text": [
      "Неправильний тип даних\n"
     ]
    }
   ],
   "source": [
    "# Ловить певну помилку\n",
    "\n",
    "try:\n",
    "    print('abs'/ 0)\n",
    "except TypeError:\n",
    "    print('Неправильний тип даних')"
   ]
  },
  {
   "cell_type": "code",
   "execution_count": 49,
   "id": "04861f6e-16c9-4559-8457-f94969f40f7d",
   "metadata": {},
   "outputs": [
    {
     "name": "stdout",
     "output_type": "stream",
     "text": [
      "division by zero\n"
     ]
    }
   ],
   "source": [
    "# Виводить пійману помилку\n",
    "\n",
    "try:\n",
    "    print(100 / 0)\n",
    "except Exception as ex:\n",
    "    print(ex)"
   ]
  }
 ],
 "metadata": {
  "kernelspec": {
   "display_name": "Python 3 (ipykernel)",
   "language": "python",
   "name": "python3"
  },
  "language_info": {
   "codemirror_mode": {
    "name": "ipython",
    "version": 3
   },
   "file_extension": ".py",
   "mimetype": "text/x-python",
   "name": "python",
   "nbconvert_exporter": "python",
   "pygments_lexer": "ipython3",
   "version": "3.12.2"
  }
 },
 "nbformat": 4,
 "nbformat_minor": 5
}
