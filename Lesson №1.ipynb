{
 "cells": [
  {
   "cell_type": "markdown",
   "id": "b2a88bd2",
   "metadata": {},
   "source": [
    "### Арифметичны оператори"
   ]
  },
  {
   "cell_type": "markdown",
   "id": "a0057aff",
   "metadata": {},
   "source": [
    "- int(integer) - цілі числа (1, 0, -5)\n",
    "- float - дробові числа (2.5, 3.7, 7.8)"
   ]
  },
  {
   "cell_type": "markdown",
   "id": "36472d38",
   "metadata": {},
   "source": [
    "### Ділення націло"
   ]
  },
  {
   "cell_type": "markdown",
   "id": "7ac011ac",
   "metadata": {},
   "source": [
    "Скільки 2 можна дістати з числа 7, наприклад:\n",
    "- 2 + 2 + 2 + 1 = 3"
   ]
  },
  {
   "cell_type": "code",
   "execution_count": 1,
   "id": "e9980121",
   "metadata": {},
   "outputs": [
    {
     "data": {
      "text/plain": [
       "3"
      ]
     },
     "execution_count": 1,
     "metadata": {},
     "output_type": "execute_result"
    }
   ],
   "source": [
    "7 // 2"
   ]
  },
  {
   "cell_type": "markdown",
   "id": "4c037822",
   "metadata": {},
   "source": [
    "### Остача"
   ]
  },
  {
   "cell_type": "markdown",
   "id": "418aeb67",
   "metadata": {},
   "source": [
    "Що залишилось після ділення націло, наприклад:\n",
    "- 2 + 2 + 2 + 1 = 3"
   ]
  },
  {
   "cell_type": "code",
   "execution_count": 2,
   "id": "1400167a",
   "metadata": {},
   "outputs": [
    {
     "data": {
      "text/plain": [
       "1"
      ]
     },
     "execution_count": 2,
     "metadata": {},
     "output_type": "execute_result"
    }
   ],
   "source": [
    "7 % 2"
   ]
  },
  {
   "cell_type": "markdown",
   "id": "67cabe05",
   "metadata": {},
   "source": [
    "### Піднесення в степінь"
   ]
  },
  {
   "cell_type": "code",
   "execution_count": 3,
   "id": "de0c0fbc",
   "metadata": {},
   "outputs": [
    {
     "data": {
      "text/plain": [
       "8"
      ]
     },
     "execution_count": 3,
     "metadata": {},
     "output_type": "execute_result"
    }
   ],
   "source": [
    "2 ** 3"
   ]
  },
  {
   "cell_type": "markdown",
   "id": "0c7b2693",
   "metadata": {},
   "source": [
    "## Оператори порівняння"
   ]
  },
  {
   "cell_type": "markdown",
   "id": "4d0e86f3",
   "metadata": {},
   "source": [
    "### Більше та менше:"
   ]
  },
  {
   "cell_type": "code",
   "execution_count": 4,
   "id": "325b998d",
   "metadata": {},
   "outputs": [
    {
     "data": {
      "text/plain": [
       "True"
      ]
     },
     "execution_count": 4,
     "metadata": {},
     "output_type": "execute_result"
    }
   ],
   "source": [
    "5 > 2"
   ]
  },
  {
   "cell_type": "code",
   "execution_count": 5,
   "id": "73e28fd5",
   "metadata": {},
   "outputs": [
    {
     "data": {
      "text/plain": [
       "False"
      ]
     },
     "execution_count": 5,
     "metadata": {},
     "output_type": "execute_result"
    }
   ],
   "source": [
    "10 < 5"
   ]
  },
  {
   "cell_type": "code",
   "execution_count": 6,
   "id": "dd4c85a4",
   "metadata": {},
   "outputs": [],
   "source": [
    "# =========================="
   ]
  },
  {
   "cell_type": "markdown",
   "id": "2796dcfb-8198-499f-a023-ff1ffb590989",
   "metadata": {},
   "source": [
    "#### Більше рівне чи меньше рівне"
   ]
  },
  {
   "cell_type": "code",
   "execution_count": 7,
   "id": "eb58eb96",
   "metadata": {},
   "outputs": [
    {
     "data": {
      "text/plain": [
       "False"
      ]
     },
     "execution_count": 7,
     "metadata": {},
     "output_type": "execute_result"
    }
   ],
   "source": [
    "age = 17\n",
    "age >= 18"
   ]
  },
  {
   "cell_type": "markdown",
   "id": "ae29b64f-f00d-4d93-9cdf-7feb2e50a8cc",
   "metadata": {},
   "source": [
    "#### Чи дорівнює один одному (==)"
   ]
  },
  {
   "cell_type": "code",
   "execution_count": 8,
   "id": "9e3c90b2-0fd0-4299-9fc7-962955a4156f",
   "metadata": {},
   "outputs": [
    {
     "data": {
      "text/plain": [
       "True"
      ]
     },
     "execution_count": 8,
     "metadata": {},
     "output_type": "execute_result"
    }
   ],
   "source": [
    "10 == 10"
   ]
  },
  {
   "cell_type": "code",
   "execution_count": 9,
   "id": "3572f65b-90fc-47e1-b5db-3f6e7debdcd2",
   "metadata": {},
   "outputs": [
    {
     "data": {
      "text/plain": [
       "False"
      ]
     },
     "execution_count": 9,
     "metadata": {},
     "output_type": "execute_result"
    }
   ],
   "source": [
    "7 == 10"
   ]
  },
  {
   "cell_type": "markdown",
   "id": "b12d5c8f-b41e-40bc-af80-c758bc738ac0",
   "metadata": {},
   "source": [
    "#### Чи не дорівнює один одному (!=)"
   ]
  },
  {
   "cell_type": "code",
   "execution_count": 10,
   "id": "5887cc8d-c892-412b-aff8-0f55a872d3fe",
   "metadata": {},
   "outputs": [
    {
     "data": {
      "text/plain": [
       "False"
      ]
     },
     "execution_count": 10,
     "metadata": {},
     "output_type": "execute_result"
    }
   ],
   "source": [
    "10 != 10"
   ]
  },
  {
   "cell_type": "code",
   "execution_count": 11,
   "id": "e67cb623-edcb-43e6-86f2-9a70eb846e07",
   "metadata": {},
   "outputs": [
    {
     "data": {
      "text/plain": [
       "True"
      ]
     },
     "execution_count": 11,
     "metadata": {},
     "output_type": "execute_result"
    }
   ],
   "source": [
    "5 != 10"
   ]
  },
  {
   "cell_type": "code",
   "execution_count": 12,
   "id": "f3b1f13d-93c0-454f-b422-e49b891dccd9",
   "metadata": {},
   "outputs": [],
   "source": [
    "a = ' House'"
   ]
  },
  {
   "cell_type": "code",
   "execution_count": 13,
   "id": "98eff055-9ad6-42c1-b2c4-6587232c17d8",
   "metadata": {},
   "outputs": [
    {
     "data": {
      "text/plain": [
       "' House House'"
      ]
     },
     "execution_count": 13,
     "metadata": {},
     "output_type": "execute_result"
    }
   ],
   "source": [
    "a * 2"
   ]
  },
  {
   "cell_type": "code",
   "execution_count": 14,
   "id": "edc0af1d-3dfc-4158-b89d-b082b111cc7b",
   "metadata": {},
   "outputs": [
    {
     "data": {
      "text/plain": [
       "' House in world'"
      ]
     },
     "execution_count": 14,
     "metadata": {},
     "output_type": "execute_result"
    }
   ],
   "source": [
    "a + ' in world'"
   ]
  },
  {
   "cell_type": "code",
   "execution_count": 15,
   "id": "a847fd0e-5ee4-47f0-b00c-76fedd3de308",
   "metadata": {},
   "outputs": [
    {
     "data": {
      "text/plain": [
       "' House 3'"
      ]
     },
     "execution_count": 15,
     "metadata": {},
     "output_type": "execute_result"
    }
   ],
   "source": [
    "a + ' 3'"
   ]
  },
  {
   "cell_type": "code",
   "execution_count": 16,
   "id": "61e268a1-7352-4b46-9210-31e6b70f098f",
   "metadata": {},
   "outputs": [
    {
     "name": "stdout",
     "output_type": "stream",
     "text": [
      "9\n",
      "333\n"
     ]
    }
   ],
   "source": [
    "print (3*3)\n",
    "print('3'*3)"
   ]
  },
  {
   "cell_type": "code",
   "execution_count": 17,
   "id": "409e0cf9-46d1-4c55-b90d-93fde32345ff",
   "metadata": {},
   "outputs": [
    {
     "data": {
      "text/plain": [
       "True"
      ]
     },
     "execution_count": 17,
     "metadata": {},
     "output_type": "execute_result"
    }
   ],
   "source": [
    "'a' == 'a'"
   ]
  },
  {
   "cell_type": "code",
   "execution_count": 18,
   "id": "d65e5af2-5e4c-4214-9685-84d7c9fd6c24",
   "metadata": {},
   "outputs": [
    {
     "data": {
      "text/plain": [
       "True"
      ]
     },
     "execution_count": 18,
     "metadata": {},
     "output_type": "execute_result"
    }
   ],
   "source": [
    "'a' != 'b'"
   ]
  },
  {
   "cell_type": "markdown",
   "id": "d30dc301-8244-421a-bc2f-a26965a16b3a",
   "metadata": {},
   "source": [
    "#### Оператори присвоєння"
   ]
  },
  {
   "cell_type": "code",
   "execution_count": 19,
   "id": "adb71514-b04d-4cce-97c4-24fefbdafd24",
   "metadata": {},
   "outputs": [
    {
     "name": "stdout",
     "output_type": "stream",
     "text": [
      "5\n"
     ]
    }
   ],
   "source": [
    "a = 5\n",
    "print (a)"
   ]
  },
  {
   "cell_type": "code",
   "execution_count": 20,
   "id": "cd87756a-2bfd-453a-93d4-6f1817a130e3",
   "metadata": {},
   "outputs": [
    {
     "name": "stdout",
     "output_type": "stream",
     "text": [
      "10\n"
     ]
    }
   ],
   "source": [
    "a = a + 5\n",
    "print (a)"
   ]
  },
  {
   "cell_type": "markdown",
   "id": "88bc1042-3935-4306-b062-9c4d2a65b73e",
   "metadata": {},
   "source": [
    "#### Оновити поточну змінну"
   ]
  },
  {
   "cell_type": "code",
   "execution_count": 21,
   "id": "51048159-cb84-4f58-bda8-da18d3fe7948",
   "metadata": {},
   "outputs": [
    {
     "name": "stdout",
     "output_type": "stream",
     "text": [
      "15\n"
     ]
    }
   ],
   "source": [
    "a += 5\n",
    "print (a)"
   ]
  },
  {
   "cell_type": "markdown",
   "id": "93b7eb17-3684-4332-9f0b-3b1386ecc7a2",
   "metadata": {},
   "source": [
    "#### Логічні оператори"
   ]
  },
  {
   "cell_type": "code",
   "execution_count": 22,
   "id": "4d5dc951-3a74-4fbc-ada0-d08f1388fea7",
   "metadata": {},
   "outputs": [],
   "source": [
    "a = 19\n",
    "c = 6\n",
    "b = 10"
   ]
  },
  {
   "cell_type": "code",
   "execution_count": 23,
   "id": "3d22a0c4-20d9-4514-bab7-074ed5ad23fc",
   "metadata": {},
   "outputs": [
    {
     "data": {
      "text/plain": [
       "False"
      ]
     },
     "execution_count": 23,
     "metadata": {},
     "output_type": "execute_result"
    }
   ],
   "source": [
    "(a > 18) and (c > 50)\n",
    "# Повинны виконатись всы умови, щоб було True"
   ]
  },
  {
   "cell_type": "code",
   "execution_count": 24,
   "id": "e4634935-5b38-437f-9cfd-2e6892760f79",
   "metadata": {},
   "outputs": [
    {
     "data": {
      "text/plain": [
       "True"
      ]
     },
     "execution_count": 24,
     "metadata": {},
     "output_type": "execute_result"
    }
   ],
   "source": [
    "(a > 18) or (c > 50)\n",
    "# Повинна виконатись хоча би одна з умов"
   ]
  },
  {
   "cell_type": "code",
   "execution_count": 27,
   "id": "44d2ece7-c29f-47df-91b3-cb1efc89a590",
   "metadata": {},
   "outputs": [
    {
     "data": {
      "text/plain": [
       "False"
      ]
     },
     "execution_count": 27,
     "metadata": {},
     "output_type": "execute_result"
    }
   ],
   "source": [
    "(a > 18) and (c > 50) and (b < 15)\n",
    "# Можна додавати багато операторів"
   ]
  },
  {
   "cell_type": "markdown",
   "id": "311f1c88-0ac0-47a2-b430-f7179c7d0a03",
   "metadata": {},
   "source": [
    "### Оператори належності"
   ]
  },
  {
   "cell_type": "code",
   "execution_count": 28,
   "id": "97be98b9-3d0d-4110-b4bf-41e773cc12dc",
   "metadata": {},
   "outputs": [
    {
     "data": {
      "text/plain": [
       "True"
      ]
     },
     "execution_count": 28,
     "metadata": {},
     "output_type": "execute_result"
    }
   ],
   "source": [
    "'o' in 'world'"
   ]
  },
  {
   "cell_type": "code",
   "execution_count": 29,
   "id": "e6258d69-be2d-457a-a1be-3c350d5fccf5",
   "metadata": {},
   "outputs": [
    {
     "data": {
      "text/plain": [
       "False"
      ]
     },
     "execution_count": 29,
     "metadata": {},
     "output_type": "execute_result"
    }
   ],
   "source": [
    "'f' in 'world'"
   ]
  },
  {
   "cell_type": "markdown",
   "id": "2682340c-cd6c-4439-a5e7-852f82159447",
   "metadata": {},
   "source": [
    "### Типи даних"
   ]
  },
  {
   "cell_type": "markdown",
   "id": "ec7cdc74-9ab9-41a0-9954-72a07f0e449b",
   "metadata": {},
   "source": [
    "##### Числові"
   ]
  },
  {
   "cell_type": "markdown",
   "id": "72031dc1-e317-4c5d-8302-0ea53898c272",
   "metadata": {},
   "source": [
    "int (integer): 1, 2, 5, -3, 0...\n",
    "float: 1.3, 1.6, -3.3, 1.0, 5.0..."
   ]
  },
  {
   "cell_type": "markdown",
   "id": "fa473122-9215-4c1e-b3a3-e16dcb1d622c",
   "metadata": {},
   "source": [
    "##### Стрічки (Текст)"
   ]
  },
  {
   "cell_type": "markdown",
   "id": "c84ba9fd-8d18-44b6-bae9-4fd831f68861",
   "metadata": {},
   "source": [
    "str (string): 'house', 'world', '123'..."
   ]
  },
  {
   "cell_type": "markdown",
   "id": "76012983-8abd-456f-9ec4-f41a7501372a",
   "metadata": {},
   "source": [
    "##### Булевий (bolean)"
   ]
  },
  {
   "cell_type": "markdown",
   "id": "5c0a7392-587e-44a7-841e-96dedc2e7191",
   "metadata": {},
   "source": [
    "bool: True, False"
   ]
  },
  {
   "cell_type": "markdown",
   "id": "a57d73fe-2a60-4e0f-b099-175e68b93305",
   "metadata": {},
   "source": [
    "##### None (Пустота)"
   ]
  },
  {
   "cell_type": "markdown",
   "id": "62e0ff32-fba1-4c17-985b-4efb7b969727",
   "metadata": {},
   "source": [
    "Nan, nan, Nonetype, null"
   ]
  },
  {
   "cell_type": "code",
   "execution_count": 32,
   "id": "202e9a1e-f376-485c-a6d8-ced8297aa8e7",
   "metadata": {},
   "outputs": [
    {
     "name": "stdout",
     "output_type": "stream",
     "text": [
      "None\n"
     ]
    }
   ],
   "source": [
    "a = None\n",
    "print (a)"
   ]
  },
  {
   "cell_type": "markdown",
   "id": "5cc44f04-06a9-4058-8723-bc4cfaab7df9",
   "metadata": {},
   "source": [
    "##### Як перевірити чи дізнатись тип данних?"
   ]
  },
  {
   "cell_type": "code",
   "execution_count": 33,
   "id": "b6967ce3-04e8-41c1-81b4-84225ebb12ab",
   "metadata": {},
   "outputs": [
    {
     "data": {
      "text/plain": [
       "str"
      ]
     },
     "execution_count": 33,
     "metadata": {},
     "output_type": "execute_result"
    }
   ],
   "source": [
    "type ('Hello')"
   ]
  },
  {
   "cell_type": "code",
   "execution_count": 34,
   "id": "a32c508f-10ac-4c0b-a579-22568f4dba0d",
   "metadata": {},
   "outputs": [
    {
     "data": {
      "text/plain": [
       "int"
      ]
     },
     "execution_count": 34,
     "metadata": {},
     "output_type": "execute_result"
    }
   ],
   "source": [
    "type (4)"
   ]
  },
  {
   "cell_type": "code",
   "execution_count": 35,
   "id": "fcee12be-548d-4ae4-83b8-d17135958141",
   "metadata": {},
   "outputs": [
    {
     "data": {
      "text/plain": [
       "NoneType"
      ]
     },
     "execution_count": 35,
     "metadata": {},
     "output_type": "execute_result"
    }
   ],
   "source": [
    "type (a)\n",
    "# Можна перевіряти змінні, а - змінна"
   ]
  },
  {
   "cell_type": "markdown",
   "id": "a294ef8c-2d31-4526-9026-dd55e8a94736",
   "metadata": {},
   "source": [
    "### Умовні конструкції"
   ]
  },
  {
   "cell_type": "markdown",
   "id": "19b08d78-e341-4834-b297-90ec16ee6992",
   "metadata": {},
   "source": [
    "### 1 конструкція"
   ]
  },
  {
   "cell_type": "code",
   "execution_count": 39,
   "id": "678812e9-2547-43a1-aff8-19cdf023bf5b",
   "metadata": {},
   "outputs": [
    {
     "name": "stdout",
     "output_type": "stream",
     "text": [
      "4.0\n"
     ]
    }
   ],
   "source": [
    "x = 20\n",
    "if x > 0:\n",
    "    print (x/5)\n",
    "elif x == 0:\n",
    "    print ('Число дорівнює 0')\n",
    "else:\n",
    "     print('X - від’ємне число', x)"
   ]
  },
  {
   "cell_type": "markdown",
   "id": "afa60328-e50b-4e30-890b-64ce3220e8f2",
   "metadata": {},
   "source": [
    "### 2 конструкція"
   ]
  },
  {
   "cell_type": "code",
   "execution_count": 41,
   "id": "1df234ed-0516-477b-9863-415949f9002a",
   "metadata": {},
   "outputs": [
    {
     "name": "stdin",
     "output_type": "stream",
     "text": [
      "Введіть свій вік:  18\n"
     ]
    },
    {
     "data": {
      "text/plain": [
       "18"
      ]
     },
     "execution_count": 41,
     "metadata": {},
     "output_type": "execute_result"
    }
   ],
   "source": [
    "age = int (input('Введіть свій вік: '))\n",
    "age\n",
    "# input переводить дані у text, тому одразу потрібно вказувати необхідний тип даних"
   ]
  },
  {
   "cell_type": "code",
   "execution_count": 45,
   "id": "003857a5-23dd-4c26-a35d-843f4a9ce949",
   "metadata": {},
   "outputs": [
    {
     "name": "stdin",
     "output_type": "stream",
     "text": [
      "Введіть свій вік:  130\n"
     ]
    },
    {
     "name": "stdout",
     "output_type": "stream",
     "text": [
      "Введено не коректний вік\n"
     ]
    }
   ],
   "source": [
    "age = float(input('Введіть свій вік: '))\n",
    "#if (age > 0) and (age < 100)\n",
    "if 0 < age < 100:\n",
    "    pass # коли немає що підставити, а код потрібно продовжити\n",
    "else:\n",
    "    print ('Введено не коректний вік')"
   ]
  },
  {
   "cell_type": "code",
   "execution_count": 46,
   "id": "556d65e2-7aad-46f0-beb5-f76ea7c70710",
   "metadata": {},
   "outputs": [
    {
     "name": "stdin",
     "output_type": "stream",
     "text": [
      "Введіть свій вік:  30\n"
     ]
    },
    {
     "name": "stdout",
     "output_type": "stream",
     "text": [
      "Гроші\n"
     ]
    }
   ],
   "source": [
    "age = float(input('Введіть свій вік: '))\n",
    "if 0 < age < 100:\n",
    "    if age >= 60:\n",
    "        print ('Новини')\n",
    "    elif age >= 18:\n",
    "        print ('Гроші')\n",
    "    else:\n",
    "        print ('Дитячий контент')\n",
    "else:\n",
    "    print ('Введено не коректний вік')     "
   ]
  },
  {
   "cell_type": "markdown",
   "id": "0e7e8aac-6130-4444-80cf-58758ca3e555",
   "metadata": {},
   "source": [
    "### Можливі варіації коду (print)"
   ]
  },
  {
   "cell_type": "code",
   "execution_count": 47,
   "id": "c58883e7-bbdd-4b87-8cc0-887de0c7854e",
   "metadata": {},
   "outputs": [
    {
     "name": "stdout",
     "output_type": "stream",
     "text": [
      "Life is 30\n"
     ]
    }
   ],
   "source": [
    "a = 30\n",
    "print ('Life is', a)"
   ]
  },
  {
   "cell_type": "code",
   "execution_count": 48,
   "id": "dbb2a893-beb6-4695-a443-e5ef471b04df",
   "metadata": {},
   "outputs": [
    {
     "name": "stdout",
     "output_type": "stream",
     "text": [
      "Life is 30\n"
     ]
    }
   ],
   "source": [
    "print (f'Life is {a}')\n",
    "# f - format string (гнучка стрічка)"
   ]
  },
  {
   "cell_type": "markdown",
   "id": "ba21b4c9-96c8-4b5b-9ed8-928806475c3f",
   "metadata": {},
   "source": [
    "### Цикли"
   ]
  },
  {
   "cell_type": "markdown",
   "id": "42e1e906-d671-4f16-b182-7ce7aedb1531",
   "metadata": {},
   "source": [
    "1) For - прокручує певну кількість циклів\n",
    "2) While - працює поки не виконається поставлена умова\n",
    "\n",
    "Ітерація - це 1 прокрут циклу"
   ]
  },
  {
   "cell_type": "code",
   "execution_count": 49,
   "id": "5fa80e5e-c09b-4fb6-a6c0-e41abc1ff4bc",
   "metadata": {},
   "outputs": [
    {
     "name": "stdout",
     "output_type": "stream",
     "text": [
      "a\n",
      "b\n",
      "c\n"
     ]
    }
   ],
   "source": [
    "for item in ['a', 'b', 'c']:\n",
    "    print (item)"
   ]
  },
  {
   "cell_type": "markdown",
   "id": "22b87257-3ec0-4b4a-a064-a007713da1f6",
   "metadata": {},
   "source": [
    "Після кожної ітерації виводиться результат, поки цикл не закінчиться"
   ]
  },
  {
   "cell_type": "markdown",
   "id": "f5570658-d836-4502-a2ed-555525718de5",
   "metadata": {},
   "source": [
    "range - діапазон (чисел, наприклад)\n",
    "range (start, end, step)"
   ]
  },
  {
   "cell_type": "code",
   "execution_count": 50,
   "id": "192f845b-65a3-40af-a09f-481d6b218a91",
   "metadata": {},
   "outputs": [
    {
     "name": "stdout",
     "output_type": "stream",
     "text": [
      "1\n",
      "2\n",
      "3\n",
      "4\n",
      "5\n",
      "6\n"
     ]
    }
   ],
   "source": [
    "for i in range (1, 7):\n",
    "    print (i)"
   ]
  },
  {
   "cell_type": "code",
   "execution_count": 54,
   "id": "69e9c3f6-d469-42ca-b4fd-21bbac0325a6",
   "metadata": {},
   "outputs": [
    {
     "name": "stdout",
     "output_type": "stream",
     "text": [
      "2\n",
      "4\n",
      "6\n"
     ]
    }
   ],
   "source": [
    "# Вивести парні числа у певному діапазоні\n",
    "for i in range (2, 7, 2):\n",
    "    print (i)"
   ]
  },
  {
   "cell_type": "code",
   "execution_count": 55,
   "id": "4b0e4a77-4858-4512-a364-e13c775833b4",
   "metadata": {},
   "outputs": [
    {
     "name": "stdout",
     "output_type": "stream",
     "text": [
      "1\n",
      "2\n",
      "3\n",
      "4\n",
      "5\n",
      "6\n",
      "7\n"
     ]
    }
   ],
   "source": [
    "# Поки працює умова, то цикл буде виконуватись\n",
    "a = 0\n",
    "while a < 7:\n",
    "    a += 1\n",
    "    print (a)"
   ]
  },
  {
   "cell_type": "markdown",
   "id": "215c0c72-e631-4733-b935-758602a4453f",
   "metadata": {},
   "source": [
    "### Завдання:"
   ]
  },
  {
   "cell_type": "markdown",
   "id": "aaf7e54f-b971-45f8-a9e7-6560edf61275",
   "metadata": {},
   "source": [
    "Підрахуйте суму всіх чисел в межах діапазону, межі якого необхідно задати\\\n",
    "Реалізуйте двома циклами (while and for)\\\n",
    "1 + 2 + 3...    Додати всі числа в діапазоні сотні -> 5050"
   ]
  },
  {
   "cell_type": "markdown",
   "id": "1a908a2d-de71-4465-b20b-8c9c7484ff82",
   "metadata": {},
   "source": [
    "### 1. For"
   ]
  },
  {
   "cell_type": "code",
   "execution_count": 59,
   "id": "ff7a4638-2e70-4d9c-b19c-42919beefa30",
   "metadata": {},
   "outputs": [
    {
     "data": {
      "text/plain": [
       "5050"
      ]
     },
     "execution_count": 59,
     "metadata": {},
     "output_type": "execute_result"
    }
   ],
   "source": [
    "start = 1\n",
    "end = 100\n",
    "suma = 0\n",
    "                      #end + 1 - треба, щоб включити 100, а не 99\n",
    "for i in range (start, end + 1):\n",
    "    suma += i\n",
    "\n",
    "suma"
   ]
  },
  {
   "cell_type": "markdown",
   "id": "6c7038f0-4db0-494b-aa2e-a5d09e78111c",
   "metadata": {},
   "source": [
    "### 2. While"
   ]
  },
  {
   "cell_type": "code",
   "execution_count": 58,
   "id": "dd69bee4-7192-4a3b-a341-3172ac072792",
   "metadata": {},
   "outputs": [
    {
     "data": {
      "text/plain": [
       "5050"
      ]
     },
     "execution_count": 58,
     "metadata": {},
     "output_type": "execute_result"
    }
   ],
   "source": [
    "start = 1\n",
    "end = 100\n",
    "suma = 0\n",
    "\n",
    "while start <= end:\n",
    "    suma += start\n",
    "    start += 1\n",
    "suma"
   ]
  }
 ],
 "metadata": {
  "kernelspec": {
   "display_name": "Python 3 (ipykernel)",
   "language": "python",
   "name": "python3"
  },
  "language_info": {
   "codemirror_mode": {
    "name": "ipython",
    "version": 3
   },
   "file_extension": ".py",
   "mimetype": "text/x-python",
   "name": "python",
   "nbconvert_exporter": "python",
   "pygments_lexer": "ipython3",
   "version": "3.12.2"
  }
 },
 "nbformat": 4,
 "nbformat_minor": 5
}
