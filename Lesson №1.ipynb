{
 "cells": [
  {
   "cell_type": "markdown",
   "id": "b2a88bd2",
   "metadata": {},
   "source": [
    "### Арифметичны оператори"
   ]
  },
  {
   "cell_type": "markdown",
   "id": "a0057aff",
   "metadata": {},
   "source": [
    "- int(integer) - цілі числа (1, 0, -5)\n",
    "- float - дробові числа (2.5, 3.7, 7.8)"
   ]
  },
  {
   "cell_type": "markdown",
   "id": "36472d38",
   "metadata": {},
   "source": [
    "### Ділення націло"
   ]
  },
  {
   "cell_type": "markdown",
   "id": "7ac011ac",
   "metadata": {},
   "source": [
    "Скільки 2 можна дістати з числа 7, наприклад:\n",
    "- 2 + 2 + 2 + 1 = 3"
   ]
  },
  {
   "cell_type": "code",
   "execution_count": 1,
   "id": "e9980121",
   "metadata": {},
   "outputs": [
    {
     "data": {
      "text/plain": [
       "3"
      ]
     },
     "execution_count": 1,
     "metadata": {},
     "output_type": "execute_result"
    }
   ],
   "source": [
    "7 // 2"
   ]
  },
  {
   "cell_type": "markdown",
   "id": "4c037822",
   "metadata": {},
   "source": [
    "### Остача"
   ]
  },
  {
   "cell_type": "markdown",
   "id": "418aeb67",
   "metadata": {},
   "source": [
    "Що залишилось після ділення націло, наприклад:\n",
    "- 2 + 2 + 2 + 1 = 3"
   ]
  },
  {
   "cell_type": "code",
   "execution_count": 2,
   "id": "1400167a",
   "metadata": {},
   "outputs": [
    {
     "data": {
      "text/plain": [
       "1"
      ]
     },
     "execution_count": 2,
     "metadata": {},
     "output_type": "execute_result"
    }
   ],
   "source": [
    "7 % 2"
   ]
  },
  {
   "cell_type": "markdown",
   "id": "67cabe05",
   "metadata": {},
   "source": [
    "### Піднесення в степінь"
   ]
  },
  {
   "cell_type": "code",
   "execution_count": 3,
   "id": "de0c0fbc",
   "metadata": {},
   "outputs": [
    {
     "data": {
      "text/plain": [
       "8"
      ]
     },
     "execution_count": 3,
     "metadata": {},
     "output_type": "execute_result"
    }
   ],
   "source": [
    "2 ** 3"
   ]
  },
  {
   "cell_type": "markdown",
   "id": "0c7b2693",
   "metadata": {},
   "source": [
    "## Оператори порівняння"
   ]
  },
  {
   "cell_type": "markdown",
   "id": "4d0e86f3",
   "metadata": {},
   "source": [
    "### Більше та менше:"
   ]
  },
  {
   "cell_type": "code",
   "execution_count": 4,
   "id": "325b998d",
   "metadata": {},
   "outputs": [
    {
     "data": {
      "text/plain": [
       "True"
      ]
     },
     "execution_count": 4,
     "metadata": {},
     "output_type": "execute_result"
    }
   ],
   "source": [
    "5 > 2"
   ]
  },
  {
   "cell_type": "code",
   "execution_count": 5,
   "id": "73e28fd5",
   "metadata": {},
   "outputs": [
    {
     "data": {
      "text/plain": [
       "False"
      ]
     },
     "execution_count": 5,
     "metadata": {},
     "output_type": "execute_result"
    }
   ],
   "source": [
    "10 < 5"
   ]
  },
  {
   "cell_type": "code",
   "execution_count": 6,
   "id": "dd4c85a4",
   "metadata": {},
   "outputs": [],
   "source": [
    "# =========================="
   ]
  },
  {
   "cell_type": "markdown",
   "id": "2796dcfb-8198-499f-a023-ff1ffb590989",
   "metadata": {},
   "source": [
    "#### Більше рівне чи меньше рівне"
   ]
  },
  {
   "cell_type": "code",
   "execution_count": 7,
   "id": "eb58eb96",
   "metadata": {},
   "outputs": [
    {
     "data": {
      "text/plain": [
       "False"
      ]
     },
     "execution_count": 7,
     "metadata": {},
     "output_type": "execute_result"
    }
   ],
   "source": [
    "age = 17\n",
    "age >= 18"
   ]
  },
  {
   "cell_type": "markdown",
   "id": "ae29b64f-f00d-4d93-9cdf-7feb2e50a8cc",
   "metadata": {},
   "source": [
    "#### Чи дорівнює один одному (==)"
   ]
  },
  {
   "cell_type": "code",
   "execution_count": 8,
   "id": "9e3c90b2-0fd0-4299-9fc7-962955a4156f",
   "metadata": {},
   "outputs": [
    {
     "data": {
      "text/plain": [
       "True"
      ]
     },
     "execution_count": 8,
     "metadata": {},
     "output_type": "execute_result"
    }
   ],
   "source": [
    "10 ==10"
   ]
  },
  {
   "cell_type": "code",
   "execution_count": 9,
   "id": "3572f65b-90fc-47e1-b5db-3f6e7debdcd2",
   "metadata": {},
   "outputs": [
    {
     "data": {
      "text/plain": [
       "False"
      ]
     },
     "execution_count": 9,
     "metadata": {},
     "output_type": "execute_result"
    }
   ],
   "source": [
    "7 == 10"
   ]
  },
  {
   "cell_type": "markdown",
   "id": "b12d5c8f-b41e-40bc-af80-c758bc738ac0",
   "metadata": {},
   "source": [
    "#### Чи не дорівнює один одному (!=)"
   ]
  },
  {
   "cell_type": "code",
   "execution_count": 10,
   "id": "5887cc8d-c892-412b-aff8-0f55a872d3fe",
   "metadata": {},
   "outputs": [
    {
     "data": {
      "text/plain": [
       "False"
      ]
     },
     "execution_count": 10,
     "metadata": {},
     "output_type": "execute_result"
    }
   ],
   "source": [
    "10 != 10"
   ]
  },
  {
   "cell_type": "code",
   "execution_count": 11,
   "id": "e67cb623-edcb-43e6-86f2-9a70eb846e07",
   "metadata": {},
   "outputs": [
    {
     "data": {
      "text/plain": [
       "True"
      ]
     },
     "execution_count": 11,
     "metadata": {},
     "output_type": "execute_result"
    }
   ],
   "source": [
    "5 != 10"
   ]
  },
  {
   "cell_type": "code",
   "execution_count": 21,
   "id": "f3b1f13d-93c0-454f-b422-e49b891dccd9",
   "metadata": {},
   "outputs": [],
   "source": [
    "a = ' House'"
   ]
  },
  {
   "cell_type": "code",
   "execution_count": 22,
   "id": "98eff055-9ad6-42c1-b2c4-6587232c17d8",
   "metadata": {},
   "outputs": [
    {
     "data": {
      "text/plain": [
       "' House House'"
      ]
     },
     "execution_count": 22,
     "metadata": {},
     "output_type": "execute_result"
    }
   ],
   "source": [
    "a * 2"
   ]
  },
  {
   "cell_type": "code",
   "execution_count": 14,
   "id": "edc0af1d-3dfc-4158-b89d-b082b111cc7b",
   "metadata": {},
   "outputs": [
    {
     "data": {
      "text/plain": [
       "'House in world'"
      ]
     },
     "execution_count": 14,
     "metadata": {},
     "output_type": "execute_result"
    }
   ],
   "source": [
    "a + ' in world'"
   ]
  },
  {
   "cell_type": "code",
   "execution_count": 15,
   "id": "a847fd0e-5ee4-47f0-b00c-76fedd3de308",
   "metadata": {},
   "outputs": [
    {
     "data": {
      "text/plain": [
       "'House 3'"
      ]
     },
     "execution_count": 15,
     "metadata": {},
     "output_type": "execute_result"
    }
   ],
   "source": [
    "a + ' 3'"
   ]
  },
  {
   "cell_type": "code",
   "execution_count": 16,
   "id": "61e268a1-7352-4b46-9210-31e6b70f098f",
   "metadata": {},
   "outputs": [
    {
     "name": "stdout",
     "output_type": "stream",
     "text": [
      "9\n",
      "333\n"
     ]
    }
   ],
   "source": [
    "print (3*3)\n",
    "print('3'*3)"
   ]
  },
  {
   "cell_type": "code",
   "execution_count": 17,
   "id": "409e0cf9-46d1-4c55-b90d-93fde32345ff",
   "metadata": {},
   "outputs": [
    {
     "data": {
      "text/plain": [
       "True"
      ]
     },
     "execution_count": 17,
     "metadata": {},
     "output_type": "execute_result"
    }
   ],
   "source": [
    "'a' == 'a'"
   ]
  },
  {
   "cell_type": "code",
   "execution_count": 18,
   "id": "d65e5af2-5e4c-4214-9685-84d7c9fd6c24",
   "metadata": {},
   "outputs": [
    {
     "data": {
      "text/plain": [
       "True"
      ]
     },
     "execution_count": 18,
     "metadata": {},
     "output_type": "execute_result"
    }
   ],
   "source": [
    "'a' != 'b'"
   ]
  },
  {
   "cell_type": "markdown",
   "id": "d30dc301-8244-421a-bc2f-a26965a16b3a",
   "metadata": {},
   "source": [
    "#### Оператори присвоєння #Чомусь шмат коду знизу не працює, спробуй у новому файлі його запустити"
   ]
  },
  {
   "cell_type": "code",
   "execution_count": 37,
   "id": "adb71514-b04d-4cce-97c4-24fefbdafd24",
   "metadata": {},
   "outputs": [],
   "source": [
    "a = 5"
   ]
  },
  {
   "cell_type": "code",
   "execution_count": 40,
   "id": "e682d7c4-9983-4954-9cfe-20f55fcfd7d2",
   "metadata": {},
   "outputs": [],
   "source": [
    "a = a + 5"
   ]
  },
  {
   "cell_type": "markdown",
   "id": "88bc1042-3935-4306-b062-9c4d2a65b73e",
   "metadata": {},
   "source": [
    "#### Оновити поточну змінну"
   ]
  },
  {
   "cell_type": "code",
   "execution_count": 39,
   "id": "51048159-cb84-4f58-bda8-da18d3fe7948",
   "metadata": {},
   "outputs": [],
   "source": [
    "a += 5"
   ]
  },
  {
   "cell_type": "markdown",
   "id": "93b7eb17-3684-4332-9f0b-3b1386ecc7a2",
   "metadata": {},
   "source": [
    "#### Логічні оператори"
   ]
  },
  {
   "cell_type": "code",
   "execution_count": null,
   "id": "3d22a0c4-20d9-4514-bab7-074ed5ad23fc",
   "metadata": {},
   "outputs": [],
   "source": []
  },
  {
   "cell_type": "code",
   "execution_count": null,
   "id": "e4634935-5b38-437f-9cfd-2e6892760f79",
   "metadata": {},
   "outputs": [],
   "source": []
  },
  {
   "cell_type": "code",
   "execution_count": null,
   "id": "44d2ece7-c29f-47df-91b3-cb1efc89a590",
   "metadata": {},
   "outputs": [],
   "source": []
  },
  {
   "cell_type": "code",
   "execution_count": null,
   "id": "59cad223-1d78-4a0d-8a8d-a24c0ff2ee24",
   "metadata": {},
   "outputs": [],
   "source": []
  }
 ],
 "metadata": {
  "kernelspec": {
   "display_name": "Python 3 (ipykernel)",
   "language": "python",
   "name": "python3"
  },
  "language_info": {
   "codemirror_mode": {
    "name": "ipython",
    "version": 3
   },
   "file_extension": ".py",
   "mimetype": "text/x-python",
   "name": "python",
   "nbconvert_exporter": "python",
   "pygments_lexer": "ipython3",
   "version": "3.12.2"
  }
 },
 "nbformat": 4,
 "nbformat_minor": 5
}
