{
 "cells": [
  {
   "cell_type": "markdown",
   "id": "73e5fb7f",
   "metadata": {},
   "source": [
    "# Lesson №2"
   ]
  },
  {
   "cell_type": "markdown",
   "id": "9f40c564-4406-4288-be61-aaf259119e92",
   "metadata": {},
   "source": [
    "### Списки"
   ]
  },
  {
   "cell_type": "code",
   "execution_count": 1,
   "id": "a3fb66be",
   "metadata": {},
   "outputs": [
    {
     "data": {
      "text/plain": [
       "[1, 2, 3, 4, 5]"
      ]
     },
     "execution_count": 1,
     "metadata": {},
     "output_type": "execute_result"
    }
   ],
   "source": [
    "lst = [1, 2, 3, 4, 5]\n",
    "lst"
   ]
  },
  {
   "cell_type": "code",
   "execution_count": 2,
   "id": "72d04284",
   "metadata": {},
   "outputs": [
    {
     "name": "stdout",
     "output_type": "stream",
     "text": [
      "1 2 3 4 5\n"
     ]
    }
   ],
   "source": [
    "print(*lst) # Виводиться без лишніх символів"
   ]
  },
  {
   "cell_type": "code",
   "execution_count": 3,
   "id": "5a339c54",
   "metadata": {},
   "outputs": [
    {
     "data": {
      "text/plain": [
       "['house', 1, 2, 3, True, 'dog']"
      ]
     },
     "execution_count": 3,
     "metadata": {},
     "output_type": "execute_result"
    }
   ],
   "source": [
    "lst = ['house', 1, 2, 3, True, 'dog'] # Списки зберігають усі типи даних\n",
    "lst"
   ]
  },
  {
   "cell_type": "code",
   "execution_count": 4,
   "id": "0e511fbb-47ad-4b86-98dd-fb083ca9287e",
   "metadata": {},
   "outputs": [
    {
     "name": "stdout",
     "output_type": "stream",
     "text": [
      "<class 'str'>\n",
      "<class 'int'>\n",
      "<class 'int'>\n",
      "<class 'int'>\n",
      "<class 'bool'>\n",
      "<class 'str'>\n"
     ]
    }
   ],
   "source": [
    "for item in lst:     # Дізнатись типи даних, що зберігаються у списку\n",
    "    print(type(item))"
   ]
  },
  {
   "cell_type": "code",
   "execution_count": 5,
   "id": "bc60959d",
   "metadata": {},
   "outputs": [
    {
     "data": {
      "text/plain": [
       "'green'"
      ]
     },
     "execution_count": 5,
     "metadata": {},
     "output_type": "execute_result"
    }
   ],
   "source": [
    "lst = ['green', 'red', 'yellow', 'blue', 'black'] # range(start, end, step)\n",
    "lst[0]                                            # [start:end:step]"
   ]
  },
  {
   "cell_type": "code",
   "execution_count": 6,
   "id": "6f05c257",
   "metadata": {},
   "outputs": [
    {
     "data": {
      "text/plain": [
       "['red', 'yellow']"
      ]
     },
     "execution_count": 6,
     "metadata": {},
     "output_type": "execute_result"
    }
   ],
   "source": [
    "lst[1:3] # Виводить дані у вказаному проміжку (відлік починається з 0 і до вказаного числа, не включно)"
   ]
  },
  {
   "cell_type": "code",
   "execution_count": 7,
   "id": "b14fc2de",
   "metadata": {},
   "outputs": [
    {
     "data": {
      "text/plain": [
       "[12, 51, 4124, 75]"
      ]
     },
     "execution_count": 7,
     "metadata": {},
     "output_type": "execute_result"
    }
   ],
   "source": [
    "lst = [10, 12, 34, 51, 124, 4124, 32, 75, 574, 568, 12] # З 1 індексу по 9 з кроком у 2\n",
    "lst[1:9:2]"
   ]
  },
  {
   "cell_type": "code",
   "execution_count": 8,
   "id": "4447c0db",
   "metadata": {},
   "outputs": [
    {
     "data": {
      "text/plain": [
       "568"
      ]
     },
     "execution_count": 8,
     "metadata": {},
     "output_type": "execute_result"
    }
   ],
   "source": [
    "lst[-2] # Можна перебирати список з кінця"
   ]
  },
  {
   "cell_type": "code",
   "execution_count": 9,
   "id": "f1f9b7b6",
   "metadata": {},
   "outputs": [
    {
     "data": {
      "text/plain": [
       "[32, 75, 574]"
      ]
     },
     "execution_count": 9,
     "metadata": {},
     "output_type": "execute_result"
    }
   ],
   "source": [
    "lst[-5:-2] # Зріз"
   ]
  },
  {
   "cell_type": "markdown",
   "id": "e921c071-b3d1-4b5e-866c-2de67f816ff1",
   "metadata": {},
   "source": [
    "Статистика:\n",
    "1) Середнє значення\n",
    "2) Мода\n",
    "3) Медіана"
   ]
  },
  {
   "cell_type": "code",
   "execution_count": 10,
   "id": "e7e3a473-ab8c-4ed6-8a0b-2cfd5bdf8481",
   "metadata": {},
   "outputs": [],
   "source": [
    "# Знизу мало вийти = 184.0, пофікси наступні 4 комірки з кодом (щось наплутав зі списками)"
   ]
  },
  {
   "cell_type": "code",
   "execution_count": 11,
   "id": "bef17d5d",
   "metadata": {},
   "outputs": [
    {
     "name": "stdout",
     "output_type": "stream",
     "text": [
      "510.54545454545456\n"
     ]
    }
   ],
   "source": [
    "avg_height = 0 # Середнє значення\n",
    "sum_height = 0 # Загальна сума\n",
    "counter = 0    # Кількість позицій\n",
    "\n",
    "for item in lst:\n",
    "    sum_height += item\n",
    "    counter += 1\n",
    "\n",
    "avg_height = sum_height / counter\n",
    "print(avg_height)"
   ]
  },
  {
   "cell_type": "code",
   "execution_count": 12,
   "id": "63721562",
   "metadata": {},
   "outputs": [
    {
     "data": {
      "text/plain": [
       "5616"
      ]
     },
     "execution_count": 12,
     "metadata": {},
     "output_type": "execute_result"
    }
   ],
   "source": [
    "sum(lst)"
   ]
  },
  {
   "cell_type": "code",
   "execution_count": 13,
   "id": "03cf498b",
   "metadata": {},
   "outputs": [
    {
     "data": {
      "text/plain": [
       "11"
      ]
     },
     "execution_count": 13,
     "metadata": {},
     "output_type": "execute_result"
    }
   ],
   "source": [
    "len(lst)"
   ]
  },
  {
   "cell_type": "code",
   "execution_count": 14,
   "id": "ca6a9f16",
   "metadata": {},
   "outputs": [
    {
     "data": {
      "text/plain": [
       "510.54545454545456"
      ]
     },
     "execution_count": 14,
     "metadata": {},
     "output_type": "execute_result"
    }
   ],
   "source": [
    "sum(lst) / len(lst)"
   ]
  },
  {
   "cell_type": "markdown",
   "id": "d5f6d9e3-d511-4c2f-bdcb-a0c4f43134f4",
   "metadata": {},
   "source": [
    "### Зверху, пофікси"
   ]
  },
  {
   "cell_type": "code",
   "execution_count": null,
   "id": "64174f2a-238c-4f7d-b4aa-38cbee237e67",
   "metadata": {},
   "outputs": [],
   "source": []
  },
  {
   "cell_type": "markdown",
   "id": "3cf21b0d-04ad-4da8-b078-73a04640adf4",
   "metadata": {},
   "source": [
    "### List methods"
   ]
  },
  {
   "cell_type": "markdown",
   "id": "277a4322-0eb5-4091-a64b-89f7e41f8ef2",
   "metadata": {},
   "source": [
    "- .apppend() -> Додає елемент в кінець списку\n",
    "- .extend() -> Додає елементи ітерабельного об'єкта в кінець списку\n",
    "- .count() -> Повертає кількість входжень елемента в список\n",
    "- .pop() -> Видаляє елементи із вказаної позиції\n",
    "- .reverse() -> Змінює порядок елементів  на протилежний\n",
    "- .sort() -> Відсортовує елементи в списку, щоб перевірити наявність елемента в списку, використовують оператор in."
   ]
  },
  {
   "cell_type": "code",
   "execution_count": 15,
   "id": "493b55a2-c8d4-45a9-9044-b7162c272cfc",
   "metadata": {},
   "outputs": [
    {
     "data": {
      "text/plain": [
       "[1, 2, 3, 4, 5]"
      ]
     },
     "execution_count": 15,
     "metadata": {},
     "output_type": "execute_result"
    }
   ],
   "source": [
    "lst = [1, 2, 3, 4]\n",
    "lst.append(5)\n",
    "lst"
   ]
  },
  {
   "cell_type": "code",
   "execution_count": 16,
   "id": "3d64baf5-7c33-4be1-9af6-0e2a3b67617f",
   "metadata": {},
   "outputs": [
    {
     "data": {
      "text/plain": [
       "[1, 2, 3, 4, 5, '1', '2', '3']"
      ]
     },
     "execution_count": 16,
     "metadata": {},
     "output_type": "execute_result"
    }
   ],
   "source": [
    "lst.extend ('123') # Тільки те, що можна прокрутити через цикл\n",
    "lst"
   ]
  },
  {
   "cell_type": "code",
   "execution_count": 17,
   "id": "b8bbe6f3-b9eb-4c8d-8e41-9a46ef00e4cb",
   "metadata": {},
   "outputs": [
    {
     "data": {
      "text/plain": [
       "4"
      ]
     },
     "execution_count": 17,
     "metadata": {},
     "output_type": "execute_result"
    }
   ],
   "source": [
    "lst = [1, 2, 3, 4, 5, '123', '1', '2', '3', 4, 7, 9, 1, 1, 1] # Порахувати кількість вказаних значень\n",
    "lst.count(1)"
   ]
  },
  {
   "cell_type": "code",
   "execution_count": 18,
   "id": "74c06869-ac9d-4d37-b97c-de56491fa032",
   "metadata": {},
   "outputs": [
    {
     "data": {
      "text/plain": [
       "'1'"
      ]
     },
     "execution_count": 18,
     "metadata": {},
     "output_type": "execute_result"
    }
   ],
   "source": [
    "lst = [1, 2, 3, 4, 5, '123', '1', '2', '3', 4, 7, 9, 1, 1, 1]\n",
    "lst.pop(6)"
   ]
  },
  {
   "cell_type": "code",
   "execution_count": 19,
   "id": "279778bc-1725-4780-a547-bfb99d9c8f49",
   "metadata": {},
   "outputs": [
    {
     "data": {
      "text/plain": [
       "[1, 2, 3, 4, 5, '2', '3', 4, 7, 9, 1, 1, 1]"
      ]
     },
     "execution_count": 19,
     "metadata": {},
     "output_type": "execute_result"
    }
   ],
   "source": [
    "lst.remove('123') # Якщо видаляємих елементів декілька, то видаляє перший\n",
    "lst"
   ]
  },
  {
   "cell_type": "code",
   "execution_count": 20,
   "id": "e2fa34f6-807d-4411-bc60-b65785de8693",
   "metadata": {},
   "outputs": [
    {
     "data": {
      "text/plain": [
       "4"
      ]
     },
     "execution_count": 20,
     "metadata": {},
     "output_type": "execute_result"
    }
   ],
   "source": [
    "lst.count(1)"
   ]
  },
  {
   "cell_type": "code",
   "execution_count": 21,
   "id": "b0901cef-7b0c-4981-ada3-39eb3d6327cb",
   "metadata": {},
   "outputs": [
    {
     "data": {
      "text/plain": [
       "[2, 3, 4, 5, '2', '3', 4, 7, 9]"
      ]
     },
     "execution_count": 21,
     "metadata": {},
     "output_type": "execute_result"
    }
   ],
   "source": [
    "for _ in range (lst.count(1)): # Видалило всі 1 зі списку\n",
    "    lst.remove(1)              # _ -> Ставиться тоді, коли не проводяться операції з перемінною\n",
    "    \n",
    "lst"
   ]
  },
  {
   "cell_type": "code",
   "execution_count": 22,
   "id": "e23750da-278f-46f1-a5a5-00038f4ece88",
   "metadata": {},
   "outputs": [
    {
     "data": {
      "text/plain": [
       "[1, 2, 3, 4, 5, 7, 8]"
      ]
     },
     "execution_count": 22,
     "metadata": {},
     "output_type": "execute_result"
    }
   ],
   "source": [
    "lst = [1, 5, 3, 2, 7, 8, 4] # Сортує\n",
    "lst.sort()\n",
    "lst"
   ]
  },
  {
   "cell_type": "code",
   "execution_count": 23,
   "id": "e666caf2-1d16-4e29-9934-42ebb032b806",
   "metadata": {},
   "outputs": [
    {
     "data": {
      "text/plain": [
       "[8, 7, 5, 4, 3, 2, 1]"
      ]
     },
     "execution_count": 23,
     "metadata": {},
     "output_type": "execute_result"
    }
   ],
   "source": [
    "lst.reverse() # Перевертає\n",
    "lst"
   ]
  },
  {
   "cell_type": "code",
   "execution_count": 24,
   "id": "f1265488-f4d5-41c4-9f10-dd2ebe8328fd",
   "metadata": {},
   "outputs": [
    {
     "data": {
      "text/plain": [
       "[1, 2, 3, 4, 5, 6]"
      ]
     },
     "execution_count": 24,
     "metadata": {},
     "output_type": "execute_result"
    }
   ],
   "source": [
    "lst = [1, 2, 3] + [4, 5, 6] # Додавання списків\n",
    "lst"
   ]
  },
  {
   "cell_type": "code",
   "execution_count": 25,
   "id": "a5010a5a-152f-419e-9ab7-bd514d33dc77",
   "metadata": {},
   "outputs": [
    {
     "data": {
      "text/plain": [
       "[1, 2, 3, 4, 5, 6, 1, 2, 3, 4, 5, 6]"
      ]
     },
     "execution_count": 25,
     "metadata": {},
     "output_type": "execute_result"
    }
   ],
   "source": [
    "lst * 2 # Множення списку"
   ]
  },
  {
   "cell_type": "markdown",
   "id": "e72cc503-b93e-41f4-8f70-c5ea3085365c",
   "metadata": {},
   "source": [
    "Списки можна додавати, множити, але не віднімати та не ділити."
   ]
  },
  {
   "cell_type": "code",
   "execution_count": 26,
   "id": "57b7d905-c369-421b-9f89-2a4821990aba",
   "metadata": {},
   "outputs": [
    {
     "data": {
      "text/plain": [
       "[[1, 2, 3], [4, 5, 6], [7, 8, 9]]"
      ]
     },
     "execution_count": 26,
     "metadata": {},
     "output_type": "execute_result"
    }
   ],
   "source": [
    "# Список -> Одновимірний масив\n",
    "[1, 2, 3] \n",
    "\n",
    "# Матриця -> Двовимірний масив\n",
    "[[1, 2, 3],\n",
    "[4, 5, 6],\n",
    "[7, 8, 9]]"
   ]
  },
  {
   "cell_type": "code",
   "execution_count": 27,
   "id": "0583f27f-f489-4b23-aa35-92f3f708c45e",
   "metadata": {},
   "outputs": [
    {
     "data": {
      "text/plain": [
       "['yellow', 'black', 'red']"
      ]
     },
     "execution_count": 27,
     "metadata": {},
     "output_type": "execute_result"
    }
   ],
   "source": [
    "colors = ['yellow', 'blue', 'red']\n",
    "colors[-2] = 'black' # Заміна\n",
    "colors"
   ]
  },
  {
   "cell_type": "code",
   "execution_count": 28,
   "id": "923b998c-5bc2-43c5-b14a-f8cb260a59b9",
   "metadata": {},
   "outputs": [
    {
     "data": {
      "text/plain": [
       "['green', 'yellow', 'black', 'red']"
      ]
     },
     "execution_count": 28,
     "metadata": {},
     "output_type": "execute_result"
    }
   ],
   "source": [
    "colors.insert(0, 'green') # додає елемент по індексу\n",
    "colors"
   ]
  },
  {
   "cell_type": "code",
   "execution_count": 29,
   "id": "91add809-8d5b-40d4-a735-ecbdf3d6c404",
   "metadata": {},
   "outputs": [
    {
     "data": {
      "text/plain": [
       "[[1, 2, 3], [4, 5, 6], [7, 8, 9]]"
      ]
     },
     "execution_count": 29,
     "metadata": {},
     "output_type": "execute_result"
    }
   ],
   "source": [
    "matrix = [[1, 2, 3], [4, 5, 6], [7, 8, 9]] # Матриця - список в списці\n",
    "matrix"
   ]
  },
  {
   "cell_type": "code",
   "execution_count": 30,
   "id": "a5858a54-30af-4ded-a223-39b6c23ad059",
   "metadata": {},
   "outputs": [
    {
     "name": "stdout",
     "output_type": "stream",
     "text": [
      "1 2 3\n",
      "4 5 6\n",
      "7 8 9\n"
     ]
    }
   ],
   "source": [
    "for row in matrix: # Виведення матриці через цикл для більш звичного вигляду\n",
    "    print(*row)"
   ]
  },
  {
   "cell_type": "code",
   "execution_count": 31,
   "id": "a0574130-1279-44f0-b080-6407025b94a8",
   "metadata": {},
   "outputs": [
    {
     "data": {
      "text/plain": [
       "[7, 8, 9]"
      ]
     },
     "execution_count": 31,
     "metadata": {},
     "output_type": "execute_result"
    }
   ],
   "source": [
    "matrix[2] # Вивести рядок"
   ]
  },
  {
   "cell_type": "code",
   "execution_count": 32,
   "id": "48c7b50d-60d3-4193-b744-8ac0640aef36",
   "metadata": {},
   "outputs": [
    {
     "data": {
      "text/plain": [
       "8"
      ]
     },
     "execution_count": 32,
     "metadata": {},
     "output_type": "execute_result"
    }
   ],
   "source": [
    "matrix[2][1] # Вивести певне значення\n",
    "  #[координати]"
   ]
  },
  {
   "cell_type": "markdown",
   "id": "6ad21366-9983-4bd9-9340-b4672d157526",
   "metadata": {},
   "source": [
    "Головна діагональ -> 1, 5, 9\n",
    "\n",
    "Побічна діагональ -> 7, 5, 3"
   ]
  },
  {
   "cell_type": "markdown",
   "id": "ba4003a2-31d0-433e-b6f3-73bc91caaf43",
   "metadata": {},
   "source": [
    "#### Завдання: Вивести головну діагональ"
   ]
  },
  {
   "cell_type": "code",
   "execution_count": 33,
   "id": "4237d446-b9e2-44bf-804e-f31ff804339a",
   "metadata": {},
   "outputs": [
    {
     "name": "stdout",
     "output_type": "stream",
     "text": [
      "1\n",
      "5\n",
      "9\n"
     ]
    }
   ],
   "source": [
    "matrix = [[1, 2, 3], [4, 5, 6], [7, 8, 9]]\n",
    "\n",
    "for i in range(len(matrix)):\n",
    "    print(matrix[i][i])"
   ]
  },
  {
   "cell_type": "markdown",
   "id": "f6790813-765d-42a6-9a10-ad7c249be88d",
   "metadata": {},
   "source": [
    "#### Знайти медіану та середнє значення через додаткову бібліотеку"
   ]
  },
  {
   "cell_type": "code",
   "execution_count": 36,
   "id": "0678c6d0-f0d0-467d-8f3e-8ce5055d8993",
   "metadata": {},
   "outputs": [
    {
     "data": {
      "text/plain": [
       "np.float64(96.66666666666667)"
      ]
     },
     "execution_count": 36,
     "metadata": {},
     "output_type": "execute_result"
    }
   ],
   "source": [
    "import numpy as np\n",
    "\n",
    "lst = [10, 20, 20, 10, 20, 500]\n",
    "np.mean(lst) # Середнє значення"
   ]
  },
  {
   "cell_type": "code",
   "execution_count": 37,
   "id": "032621a6-6155-4013-954f-ca59598af46c",
   "metadata": {},
   "outputs": [
    {
     "data": {
      "text/plain": [
       "np.float64(20.0)"
      ]
     },
     "execution_count": 37,
     "metadata": {},
     "output_type": "execute_result"
    }
   ],
   "source": [
    "import numpy as np\n",
    "\n",
    "lst = [10, 20, 20, 10, 20, 500]\n",
    "np.median(lst) # Медіана"
   ]
  },
  {
   "cell_type": "markdown",
   "id": "a39223f7-9efe-46ff-994c-2fd01a13a1b2",
   "metadata": {},
   "source": [
    "### Функції"
   ]
  },
  {
   "cell_type": "code",
   "execution_count": 38,
   "id": "3ffff1ee-a6d3-4a86-9de1-dbd9d3e1d738",
   "metadata": {},
   "outputs": [
    {
     "name": "stdout",
     "output_type": "stream",
     "text": [
      "Hello\n"
     ]
    }
   ],
   "source": [
    "def greet():\n",
    "    print('Hello')\n",
    "greet()"
   ]
  },
  {
   "cell_type": "code",
   "execution_count": 41,
   "id": "68e8dccf-4a83-4fc9-9f68-824427780475",
   "metadata": {},
   "outputs": [
    {
     "name": "stdout",
     "output_type": "stream",
     "text": [
      "Hello Bob\n"
     ]
    }
   ],
   "source": [
    "def greet(name):\n",
    "    print(f'Hello {name}')\n",
    "greet('Bob')"
   ]
  },
  {
   "cell_type": "code",
   "execution_count": 42,
   "id": "bb7f0caa-b87c-45fe-b8a7-26ad01ba7b17",
   "metadata": {},
   "outputs": [
    {
     "name": "stdout",
     "output_type": "stream",
     "text": [
      "Hello Bob, you are 40, your job is Data Analyst!\n"
     ]
    }
   ],
   "source": [
    "def greet (name = 'user', age = 'unknow', job = 'unknow'):\n",
    "    print(f'Hello {name}, you are {age}, your job is {job}!')\n",
    "greet('Bob', 40, 'Data Analyst')"
   ]
  },
  {
   "cell_type": "code",
   "execution_count": 44,
   "id": "2515a6fe-ec44-4112-af41-4b3fa5e15121",
   "metadata": {},
   "outputs": [
    {
     "name": "stdout",
     "output_type": "stream",
     "text": [
      "Hello Bob, you are 40, your job is unknow!\n"
     ]
    }
   ],
   "source": [
    "greet('Bob', 40) # Пусті значенння заміняються"
   ]
  },
  {
   "cell_type": "code",
   "execution_count": 45,
   "id": "56b392c3-17dd-4c1c-b64f-cf00f45785a8",
   "metadata": {},
   "outputs": [
    {
     "name": "stdout",
     "output_type": "stream",
     "text": [
      "Hello Bob, you are unknow, your job is Analytics!\n"
     ]
    }
   ],
   "source": [
    "greet(name = 'Bob', job = 'Analytics')"
   ]
  },
  {
   "cell_type": "code",
   "execution_count": 46,
   "id": "b00ff517-c546-4915-9b08-573e1c057427",
   "metadata": {},
   "outputs": [
    {
     "name": "stdout",
     "output_type": "stream",
     "text": [
      "10\n"
     ]
    }
   ],
   "source": [
    "def suma(a, b):\n",
    "    print (a + b)\n",
    "\n",
    "suma(3, 7)"
   ]
  },
  {
   "cell_type": "code",
   "execution_count": 48,
   "id": "5695cb9d-97cd-431f-97b4-bdf7273efffe",
   "metadata": {},
   "outputs": [
    {
     "name": "stdout",
     "output_type": "stream",
     "text": [
      "10\n"
     ]
    }
   ],
   "source": [
    "def suma (a, b): # return - повертає значення\n",
    "    return a + b\n",
    "\n",
    "result = suma(3, 7)\n",
    "print(result)"
   ]
  },
  {
   "cell_type": "code",
   "execution_count": 50,
   "id": "9fd5daba-cc5e-4258-a4e8-df7da8546341",
   "metadata": {},
   "outputs": [
    {
     "data": {
      "text/plain": [
       "'Mean: 2.5'"
      ]
     },
     "execution_count": 50,
     "metadata": {},
     "output_type": "execute_result"
    }
   ],
   "source": [
    "# Функція, яка рахує середнє значення:\n",
    "def our_mean(lst):\n",
    "    return f'Mean: {sum(lst) / len(lst)}'\n",
    "\n",
    "our_mean([1, 2, 3, 4])"
   ]
  },
  {
   "cell_type": "markdown",
   "id": "b1ada69a-b44e-40cf-aa96-867c72bfe53c",
   "metadata": {},
   "source": [
    "### Знайти факторіал"
   ]
  },
  {
   "cell_type": "code",
   "execution_count": 51,
   "id": "33e928c9-6065-404f-b5f7-c92414301f37",
   "metadata": {},
   "outputs": [
    {
     "data": {
      "text/plain": [
       "120"
      ]
     },
     "execution_count": 51,
     "metadata": {},
     "output_type": "execute_result"
    }
   ],
   "source": [
    "n = 5\n",
    "result = 1\n",
    "\n",
    "for i in range(1, n+1):\n",
    "    result *= i\n",
    "result"
   ]
  },
  {
   "cell_type": "code",
   "execution_count": 52,
   "id": "8188a29a-9076-4a3a-8423-cb1dbe836300",
   "metadata": {},
   "outputs": [
    {
     "data": {
      "text/plain": [
       "120"
      ]
     },
     "execution_count": 52,
     "metadata": {},
     "output_type": "execute_result"
    }
   ],
   "source": [
    "# Тепер завертаємо все у функцію\n",
    "def our_factorial(n):\n",
    "    result = 1\n",
    "    for i in range(1, n+1):\n",
    "        result *= i\n",
    "    return result\n",
    "our_factorial(5)"
   ]
  }
 ],
 "metadata": {
  "kernelspec": {
   "display_name": "Python 3 (ipykernel)",
   "language": "python",
   "name": "python3"
  },
  "language_info": {
   "codemirror_mode": {
    "name": "ipython",
    "version": 3
   },
   "file_extension": ".py",
   "mimetype": "text/x-python",
   "name": "python",
   "nbconvert_exporter": "python",
   "pygments_lexer": "ipython3",
   "version": "3.12.2"
  }
 },
 "nbformat": 4,
 "nbformat_minor": 5
}
